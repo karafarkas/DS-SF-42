{
 "cells": [
  {
   "cell_type": "markdown",
   "metadata": {},
   "source": [
    "# DS-SF-42 | 03 | Exploratory Data Analysis | Codealong | Starter Code"
   ]
  },
  {
   "cell_type": "markdown",
   "metadata": {},
   "source": [
    "In this code-along we will need the seaborn plotting package. Seaborn is built-around matplotlib to make some functionality much more user friendly.\n",
    "\n",
    "To install a package, open terminal (or git-bash for Windows users).\n",
    "\n",
    "Run:\n",
    "\n",
    "```bash\n",
    "conda install -y seaborn\n",
    "```\n",
    "\n",
    "Conda is a package manager, similar to `pip`."
   ]
  },
  {
   "cell_type": "code",
   "execution_count": 4,
   "metadata": {},
   "outputs": [
    {
     "name": "stdout",
     "output_type": "stream",
     "text": [
      "Fetching package metadata .............\n",
      "Solving package specifications: .\n",
      "\n",
      "Package plan for installation in environment C:\\Users\\kfarkas\\AppData\\Local\\Continuum\\anaconda2:\n",
      "\n",
      "The following packages will be UPDATED:\n",
      "\n",
      "    anaconda: 5.0.1-py27hdb50712_1  --> custom-py27h689e5c3_0\n",
      "    conda:    4.3.30-py27he817781_0 --> 4.4.7-py27_0         \n",
      "    pycosat:  0.6.2-py27h96ae2ec_1  --> 0.6.3-py27hcd410c5_0 \n",
      "    seaborn:  0.8.0-py27h5729117_0  --> 0.8.1-py27hab56d54_0 \n",
      "\n",
      "anaconda-custo   0% |                              | ETA:  --:--:--   0.00  B/s\n",
      "anaconda-custo 100% |###############################| ETA:  0:00:00   0.00  B/s\n",
      "anaconda-custo 100% |###############################| Time: 0:00:00   0.00  B/s\n",
      "\n",
      "pycosat-0.6.3-   0% |                              | ETA:  --:--:--   0.00  B/s\n",
      "pycosat-0.6.3-  15% |####                           | Time: 0:00:00   1.09 MB/s\n",
      "pycosat-0.6.3-  30% |#########                      | Time: 0:00:00   2.18 MB/s\n",
      "pycosat-0.6.3-  45% |##############                 | Time: 0:00:00  66.96 kB/s\n",
      "pycosat-0.6.3-  61% |###################            | Time: 0:00:00  87.38 kB/s\n",
      "pycosat-0.6.3-  76% |#######################        | Time: 0:00:00 109.23 kB/s\n",
      "pycosat-0.6.3-  91% |############################   | Time: 0:00:00 128.50 kB/s\n",
      "pycosat-0.6.3- 100% |###############################| Time: 0:00:00 139.71 kB/s\n",
      "pycosat-0.6.3- 100% |###############################| Time: 0:00:00 139.71 kB/s\n",
      "\n",
      "seaborn-0.8.1-   0% |                              | ETA:  --:--:--   0.00  B/s\n",
      "seaborn-0.8.1-   4% |#                              | Time: 0:00:00   0.00  B/s\n",
      "seaborn-0.8.1-   9% |##                             | Time: 0:00:00   2.18 MB/s\n",
      "seaborn-0.8.1-  14% |####                           | Time: 0:00:00   3.28 MB/s\n",
      "seaborn-0.8.1-  19% |#####                          | Time: 0:00:00   1.26 MB/s\n",
      "seaborn-0.8.1-  23% |#######                        | Time: 0:00:00   1.37 MB/s\n",
      "seaborn-0.8.1-  28% |########                       | Time: 0:00:00   1.54 MB/s\n",
      "seaborn-0.8.1-  33% |##########                     | Time: 0:00:00   1.79 MB/s\n",
      "seaborn-0.8.1-  38% |###########                    | Time: 0:00:00   1.66 MB/s\n",
      "seaborn-0.8.1-  43% |#############                  | Time: 0:00:00   1.87 MB/s\n",
      "seaborn-0.8.1-  47% |##############                 | Time: 0:00:00   1.72 MB/s\n",
      "seaborn-0.8.1-  52% |################               | Time: 0:00:00   1.90 MB/s\n",
      "seaborn-0.8.1-  57% |#################              | Time: 0:00:00   2.07 MB/s\n",
      "seaborn-0.8.1-  62% |###################            | Time: 0:00:00   1.92 MB/s\n",
      "seaborn-0.8.1-  67% |####################           | Time: 0:00:00   2.07 MB/s\n",
      "seaborn-0.8.1-  71% |######################         | Time: 0:00:00   2.21 MB/s\n",
      "seaborn-0.8.1-  76% |#######################        | Time: 0:00:00   2.36 MB/s\n",
      "seaborn-0.8.1-  81% |#########################      | Time: 0:00:00   2.21 MB/s\n",
      "seaborn-0.8.1-  86% |##########################     | Time: 0:00:00   2.34 MB/s\n",
      "seaborn-0.8.1-  91% |############################   | Time: 0:00:00   2.47 MB/s\n",
      "seaborn-0.8.1-  95% |#############################  | Time: 0:00:00   2.60 MB/s\n",
      "seaborn-0.8.1- 100% |###############################| Time: 0:00:00   2.71 MB/s\n",
      "seaborn-0.8.1- 100% |###############################| Time: 0:00:00   2.71 MB/s\n",
      "\n",
      "conda-4.4.7-py   0% |                              | ETA:  --:--:--   0.00  B/s\n",
      "conda-4.4.7-py   1% |                               | Time: 0:00:00   0.00  B/s\n",
      "conda-4.4.7-py   3% |#                              | Time: 0:00:00   0.00  B/s\n",
      "conda-4.4.7-py   5% |#                              | Time: 0:00:00   3.07 MB/s\n",
      "conda-4.4.7-py   6% |##                             | Time: 0:00:00   4.10 MB/s\n",
      "conda-4.4.7-py   8% |##                             | Time: 0:00:00   5.12 MB/s\n",
      "conda-4.4.7-py  10% |###                            | Time: 0:00:00   3.17 MB/s\n",
      "conda-4.4.7-py  11% |###                            | Time: 0:00:00   3.70 MB/s\n",
      "conda-4.4.7-py  13% |####                           | Time: 0:00:00   4.23 MB/s\n",
      "conda-4.4.7-py  15% |####                           | Time: 0:00:00   4.76 MB/s\n",
      "conda-4.4.7-py  16% |#####                          | Time: 0:00:00   5.29 MB/s\n",
      "conda-4.4.7-py  18% |#####                          | Time: 0:00:00   3.83 MB/s\n",
      "conda-4.4.7-py  20% |######                         | Time: 0:00:00   4.18 MB/s\n",
      "conda-4.4.7-py  21% |######                         | Time: 0:00:00   4.53 MB/s\n",
      "conda-4.4.7-py  23% |#######                        | Time: 0:00:00   4.88 MB/s\n",
      "conda-4.4.7-py  25% |#######                        | Time: 0:00:00   5.23 MB/s\n",
      "conda-4.4.7-py  26% |########                       | Time: 0:00:00   5.58 MB/s\n",
      "conda-4.4.7-py  28% |########                       | Time: 0:00:00   4.49 MB/s\n",
      "conda-4.4.7-py  30% |#########                      | Time: 0:00:00   4.76 MB/s\n",
      "conda-4.4.7-py  31% |#########                      | Time: 0:00:00   5.02 MB/s\n",
      "conda-4.4.7-py  33% |##########                     | Time: 0:00:00   5.29 MB/s\n",
      "conda-4.4.7-py  35% |##########                     | Time: 0:00:00   5.55 MB/s\n",
      "conda-4.4.7-py  36% |###########                    | Time: 0:00:00   5.81 MB/s\n",
      "conda-4.4.7-py  38% |###########                    | Time: 0:00:00   6.08 MB/s\n",
      "conda-4.4.7-py  40% |############                   | Time: 0:00:00   6.34 MB/s\n",
      "conda-4.4.7-py  41% |#############                  | Time: 0:00:00   5.25 MB/s\n",
      "conda-4.4.7-py  43% |#############                  | Time: 0:00:00   5.46 MB/s\n",
      "conda-4.4.7-py  45% |##############                 | Time: 0:00:00   5.67 MB/s\n",
      "conda-4.4.7-py  46% |##############                 | Time: 0:00:00   5.88 MB/s\n",
      "conda-4.4.7-py  48% |###############                | Time: 0:00:00   6.09 MB/s\n",
      "conda-4.4.7-py  50% |###############                | Time: 0:00:00   5.23 MB/s\n",
      "conda-4.4.7-py  52% |################               | Time: 0:00:00   5.40 MB/s\n",
      "conda-4.4.7-py  53% |################               | Time: 0:00:00   5.58 MB/s\n",
      "conda-4.4.7-py  55% |#################              | Time: 0:00:00   5.75 MB/s\n",
      "conda-4.4.7-py  57% |#################              | Time: 0:00:00   5.93 MB/s\n",
      "conda-4.4.7-py  58% |##################             | Time: 0:00:00   5.26 MB/s\n",
      "conda-4.4.7-py  60% |##################             | Time: 0:00:00   5.41 MB/s\n",
      "conda-4.4.7-py  62% |###################            | Time: 0:00:00   5.56 MB/s\n",
      "conda-4.4.7-py  63% |###################            | Time: 0:00:00   5.71 MB/s\n",
      "conda-4.4.7-py  65% |####################           | Time: 0:00:00   5.86 MB/s\n",
      "conda-4.4.7-py  67% |####################           | Time: 0:00:00   6.01 MB/s\n",
      "conda-4.4.7-py  68% |#####################          | Time: 0:00:00   5.37 MB/s\n",
      "conda-4.4.7-py  70% |#####################          | Time: 0:00:00   5.51 MB/s\n",
      "conda-4.4.7-py  72% |######################         | Time: 0:00:00   5.64 MB/s\n",
      "conda-4.4.7-py  73% |######################         | Time: 0:00:00   5.77 MB/s\n",
      "conda-4.4.7-py  75% |#######################        | Time: 0:00:00   5.90 MB/s\n",
      "conda-4.4.7-py  77% |#######################        | Time: 0:00:00   5.35 MB/s\n",
      "conda-4.4.7-py  78% |########################       | Time: 0:00:00   4.94 MB/s\n",
      "conda-4.4.7-py  80% |########################       | Time: 0:00:00   5.04 MB/s\n",
      "conda-4.4.7-py  82% |#########################      | Time: 0:00:00   5.15 MB/s\n",
      "conda-4.4.7-py  83% |##########################     | Time: 0:00:00   5.25 MB/s\n",
      "conda-4.4.7-py  85% |##########################     | Time: 0:00:00   5.36 MB/s\n",
      "conda-4.4.7-py  87% |###########################    | Time: 0:00:00   5.46 MB/s\n",
      "conda-4.4.7-py  88% |###########################    | Time: 0:00:00   5.05 MB/s\n",
      "conda-4.4.7-py  90% |############################   | Time: 0:00:00   5.14 MB/s\n",
      "conda-4.4.7-py  92% |############################   | Time: 0:00:00   5.24 MB/s\n",
      "conda-4.4.7-py  93% |#############################  | Time: 0:00:00   5.33 MB/s\n",
      "conda-4.4.7-py  95% |#############################  | Time: 0:00:00   5.43 MB/s\n",
      "conda-4.4.7-py  97% |############################## | Time: 0:00:00   5.05 MB/s\n",
      "conda-4.4.7-py  99% |############################## | Time: 0:00:00   5.14 MB/s\n",
      "conda-4.4.7-py 100% |###############################| Time: 0:00:00   5.19 MB/s\n",
      "conda-4.4.7-py 100% |###############################| Time: 0:00:00   5.19 MB/s\n",
      "\n"
     ]
    }
   ],
   "source": [
    "!conda install -y seaborn"
   ]
  },
  {
   "cell_type": "code",
   "execution_count": 5,
   "metadata": {
    "collapsed": true
   },
   "outputs": [],
   "source": [
    "import os\n",
    "import math\n",
    "import numpy as np\n",
    "import pandas as pd\n",
    "import seaborn as sns\n",
    "import matplotlib.pyplot as plt\n",
    "%matplotlib inline\n",
    "plt.style.use('ggplot')"
   ]
  },
  {
   "cell_type": "markdown",
   "metadata": {},
   "source": [
    "## Part A | Independent Review (20 minutes) | The _pandas_ Library"
   ]
  },
  {
   "cell_type": "code",
   "execution_count": 51,
   "metadata": {
    "collapsed": true
   },
   "outputs": [],
   "source": [
    "df = pd.DataFrame({'name': ['Alice', 'Bob', 'Carol', 'Dave', 'Eve', 'Frank'],\n",
    "    'gender': ['Female', 'Male', 'Female', 'Male', 'Female', 'Male'],\n",
    "    'age': [24, 34, 44, 41, 52, 43],\n",
    "    'marital_status': [0, 2, 1, 2, 0, 1]}).\\\n",
    "        set_index('name')\n",
    "    \n",
    " # set_index - pandas method for setting first value as column head   "
   ]
  },
  {
   "cell_type": "code",
   "execution_count": 7,
   "metadata": {},
   "outputs": [
    {
     "data": {
      "text/html": [
       "<div>\n",
       "<style>\n",
       "    .dataframe thead tr:only-child th {\n",
       "        text-align: right;\n",
       "    }\n",
       "\n",
       "    .dataframe thead th {\n",
       "        text-align: left;\n",
       "    }\n",
       "\n",
       "    .dataframe tbody tr th {\n",
       "        vertical-align: top;\n",
       "    }\n",
       "</style>\n",
       "<table border=\"1\" class=\"dataframe\">\n",
       "  <thead>\n",
       "    <tr style=\"text-align: right;\">\n",
       "      <th></th>\n",
       "      <th>age</th>\n",
       "      <th>gender</th>\n",
       "      <th>marital_status</th>\n",
       "    </tr>\n",
       "    <tr>\n",
       "      <th>name</th>\n",
       "      <th></th>\n",
       "      <th></th>\n",
       "      <th></th>\n",
       "    </tr>\n",
       "  </thead>\n",
       "  <tbody>\n",
       "    <tr>\n",
       "      <th>Alice</th>\n",
       "      <td>24</td>\n",
       "      <td>Female</td>\n",
       "      <td>0</td>\n",
       "    </tr>\n",
       "    <tr>\n",
       "      <th>Bob</th>\n",
       "      <td>34</td>\n",
       "      <td>Male</td>\n",
       "      <td>2</td>\n",
       "    </tr>\n",
       "    <tr>\n",
       "      <th>Carol</th>\n",
       "      <td>44</td>\n",
       "      <td>Female</td>\n",
       "      <td>1</td>\n",
       "    </tr>\n",
       "    <tr>\n",
       "      <th>Dave</th>\n",
       "      <td>41</td>\n",
       "      <td>Male</td>\n",
       "      <td>2</td>\n",
       "    </tr>\n",
       "    <tr>\n",
       "      <th>Eve</th>\n",
       "      <td>52</td>\n",
       "      <td>Female</td>\n",
       "      <td>0</td>\n",
       "    </tr>\n",
       "    <tr>\n",
       "      <th>Frank</th>\n",
       "      <td>43</td>\n",
       "      <td>Male</td>\n",
       "      <td>1</td>\n",
       "    </tr>\n",
       "  </tbody>\n",
       "</table>\n",
       "</div>"
      ],
      "text/plain": [
       "       age  gender  marital_status\n",
       "name                              \n",
       "Alice   24  Female               0\n",
       "Bob     34    Male               2\n",
       "Carol   44  Female               1\n",
       "Dave    41    Male               2\n",
       "Eve     52  Female               0\n",
       "Frank   43    Male               1"
      ]
     },
     "execution_count": 7,
     "metadata": {},
     "output_type": "execute_result"
    }
   ],
   "source": [
    "df"
   ]
  },
  {
   "cell_type": "markdown",
   "metadata": {},
   "source": [
    "The following exerices that are marked with <font color=\"blue\">(INDPENDENT)</font> are review of the Pandas material from Thursday. Take a stab at doing them on your own. Feel free to use the [inclass notebook](https://github.com/ga-students/DS-SF-42/blob/master/classes/02/notebooks/INCLASS-codealong-02-the-pandas-library-starter-code.ipynb) as a reference.\n",
    "\n",
    "> ### <font color=\"blue\">(INDPENDENT)</font> Question 1.  Subset the dataframe on the age and gender columns"
   ]
  },
  {
   "cell_type": "code",
   "execution_count": 15,
   "metadata": {},
   "outputs": [
    {
     "data": {
      "text/html": [
       "<div>\n",
       "<style>\n",
       "    .dataframe thead tr:only-child th {\n",
       "        text-align: right;\n",
       "    }\n",
       "\n",
       "    .dataframe thead th {\n",
       "        text-align: left;\n",
       "    }\n",
       "\n",
       "    .dataframe tbody tr th {\n",
       "        vertical-align: top;\n",
       "    }\n",
       "</style>\n",
       "<table border=\"1\" class=\"dataframe\">\n",
       "  <thead>\n",
       "    <tr style=\"text-align: right;\">\n",
       "      <th></th>\n",
       "      <th>age</th>\n",
       "      <th>gender</th>\n",
       "    </tr>\n",
       "    <tr>\n",
       "      <th>name</th>\n",
       "      <th></th>\n",
       "      <th></th>\n",
       "    </tr>\n",
       "  </thead>\n",
       "  <tbody>\n",
       "    <tr>\n",
       "      <th>Alice</th>\n",
       "      <td>24</td>\n",
       "      <td>Female</td>\n",
       "    </tr>\n",
       "    <tr>\n",
       "      <th>Bob</th>\n",
       "      <td>34</td>\n",
       "      <td>Male</td>\n",
       "    </tr>\n",
       "    <tr>\n",
       "      <th>Carol</th>\n",
       "      <td>44</td>\n",
       "      <td>Female</td>\n",
       "    </tr>\n",
       "    <tr>\n",
       "      <th>Dave</th>\n",
       "      <td>41</td>\n",
       "      <td>Male</td>\n",
       "    </tr>\n",
       "    <tr>\n",
       "      <th>Eve</th>\n",
       "      <td>52</td>\n",
       "      <td>Female</td>\n",
       "    </tr>\n",
       "    <tr>\n",
       "      <th>Frank</th>\n",
       "      <td>43</td>\n",
       "      <td>Male</td>\n",
       "    </tr>\n",
       "  </tbody>\n",
       "</table>\n",
       "</div>"
      ],
      "text/plain": [
       "       age  gender\n",
       "name              \n",
       "Alice   24  Female\n",
       "Bob     34    Male\n",
       "Carol   44  Female\n",
       "Dave    41    Male\n",
       "Eve     52  Female\n",
       "Frank   43    Male"
      ]
     },
     "execution_count": 15,
     "metadata": {},
     "output_type": "execute_result"
    }
   ],
   "source": [
    "# TODO\n",
    "\n",
    "df[['age', 'gender']]"
   ]
  },
  {
   "cell_type": "markdown",
   "metadata": {},
   "source": [
    "> ### <font color=\"blue\">(INDPENDENT)</font> Question 2.  Subset the dataframe on the age column alone, first as a `DataFrame`, then as a `Series`"
   ]
  },
  {
   "cell_type": "code",
   "execution_count": 38,
   "metadata": {
    "scrolled": true
   },
   "outputs": [
    {
     "data": {
      "text/html": [
       "<div>\n",
       "<style>\n",
       "    .dataframe thead tr:only-child th {\n",
       "        text-align: right;\n",
       "    }\n",
       "\n",
       "    .dataframe thead th {\n",
       "        text-align: left;\n",
       "    }\n",
       "\n",
       "    .dataframe tbody tr th {\n",
       "        vertical-align: top;\n",
       "    }\n",
       "</style>\n",
       "<table border=\"1\" class=\"dataframe\">\n",
       "  <thead>\n",
       "    <tr style=\"text-align: right;\">\n",
       "      <th></th>\n",
       "      <th>age</th>\n",
       "    </tr>\n",
       "    <tr>\n",
       "      <th>name</th>\n",
       "      <th></th>\n",
       "    </tr>\n",
       "  </thead>\n",
       "  <tbody>\n",
       "    <tr>\n",
       "      <th>Alice</th>\n",
       "      <td>24</td>\n",
       "    </tr>\n",
       "    <tr>\n",
       "      <th>Bob</th>\n",
       "      <td>34</td>\n",
       "    </tr>\n",
       "    <tr>\n",
       "      <th>Carol</th>\n",
       "      <td>44</td>\n",
       "    </tr>\n",
       "    <tr>\n",
       "      <th>Dave</th>\n",
       "      <td>41</td>\n",
       "    </tr>\n",
       "    <tr>\n",
       "      <th>Eve</th>\n",
       "      <td>52</td>\n",
       "    </tr>\n",
       "    <tr>\n",
       "      <th>Frank</th>\n",
       "      <td>43</td>\n",
       "    </tr>\n",
       "  </tbody>\n",
       "</table>\n",
       "</div>"
      ],
      "text/plain": [
       "       age\n",
       "name      \n",
       "Alice   24\n",
       "Bob     34\n",
       "Carol   44\n",
       "Dave    41\n",
       "Eve     52\n",
       "Frank   43"
      ]
     },
     "execution_count": 38,
     "metadata": {},
     "output_type": "execute_result"
    }
   ],
   "source": [
    "# TODO (DataFrame) - 2 sets of brackets\n",
    "df[['age']]"
   ]
  },
  {
   "cell_type": "code",
   "execution_count": 21,
   "metadata": {},
   "outputs": [
    {
     "data": {
      "text/plain": [
       "name\n",
       "Alice    24\n",
       "Bob      34\n",
       "Carol    44\n",
       "Dave     41\n",
       "Eve      52\n",
       "Frank    43\n",
       "Name: age, dtype: int64"
      ]
     },
     "execution_count": 21,
     "metadata": {},
     "output_type": "execute_result"
    }
   ],
   "source": [
    "# TODO (Series)\n",
    "\n",
    "df.age"
   ]
  },
  {
   "cell_type": "markdown",
   "metadata": {},
   "source": [
    "> ### <font color=\"blue\">(INDPENDENT)</font> Question 3.  Subset the dataframe on the rows Bob and Carol"
   ]
  },
  {
   "cell_type": "code",
   "execution_count": 57,
   "metadata": {},
   "outputs": [
    {
     "data": {
      "text/html": [
       "<div>\n",
       "<style>\n",
       "    .dataframe thead tr:only-child th {\n",
       "        text-align: right;\n",
       "    }\n",
       "\n",
       "    .dataframe thead th {\n",
       "        text-align: left;\n",
       "    }\n",
       "\n",
       "    .dataframe tbody tr th {\n",
       "        vertical-align: top;\n",
       "    }\n",
       "</style>\n",
       "<table border=\"1\" class=\"dataframe\">\n",
       "  <thead>\n",
       "    <tr style=\"text-align: right;\">\n",
       "      <th></th>\n",
       "      <th>age</th>\n",
       "      <th>gender</th>\n",
       "      <th>marital_status</th>\n",
       "    </tr>\n",
       "    <tr>\n",
       "      <th>name</th>\n",
       "      <th></th>\n",
       "      <th></th>\n",
       "      <th></th>\n",
       "    </tr>\n",
       "  </thead>\n",
       "  <tbody>\n",
       "    <tr>\n",
       "      <th>Bob</th>\n",
       "      <td>34</td>\n",
       "      <td>Male</td>\n",
       "      <td>2</td>\n",
       "    </tr>\n",
       "    <tr>\n",
       "      <th>Carol</th>\n",
       "      <td>44</td>\n",
       "      <td>Female</td>\n",
       "      <td>1</td>\n",
       "    </tr>\n",
       "  </tbody>\n",
       "</table>\n",
       "</div>"
      ],
      "text/plain": [
       "       age  gender  marital_status\n",
       "name                              \n",
       "Bob     34    Male               2\n",
       "Carol   44  Female               1"
      ]
     },
     "execution_count": 57,
     "metadata": {},
     "output_type": "execute_result"
    }
   ],
   "source": [
    "# TODO\n",
    "\n",
    "df.loc[['Bob', 'Carol'], :]"
   ]
  },
  {
   "cell_type": "markdown",
   "metadata": {},
   "source": [
    "> ### <font color=\"blue\">(INDPENDENT)</font> Question 4.  Subset the dataframe on the row Eve alone, first as a `DataFrame`, then as a `Series`"
   ]
  },
  {
   "cell_type": "code",
   "execution_count": 39,
   "metadata": {},
   "outputs": [
    {
     "data": {
      "text/html": [
       "<div>\n",
       "<style>\n",
       "    .dataframe thead tr:only-child th {\n",
       "        text-align: right;\n",
       "    }\n",
       "\n",
       "    .dataframe thead th {\n",
       "        text-align: left;\n",
       "    }\n",
       "\n",
       "    .dataframe tbody tr th {\n",
       "        vertical-align: top;\n",
       "    }\n",
       "</style>\n",
       "<table border=\"1\" class=\"dataframe\">\n",
       "  <thead>\n",
       "    <tr style=\"text-align: right;\">\n",
       "      <th></th>\n",
       "      <th>age</th>\n",
       "      <th>gender</th>\n",
       "      <th>marital_status</th>\n",
       "    </tr>\n",
       "    <tr>\n",
       "      <th>name</th>\n",
       "      <th></th>\n",
       "      <th></th>\n",
       "      <th></th>\n",
       "    </tr>\n",
       "  </thead>\n",
       "  <tbody>\n",
       "    <tr>\n",
       "      <th>Eve</th>\n",
       "      <td>52</td>\n",
       "      <td>Female</td>\n",
       "      <td>0</td>\n",
       "    </tr>\n",
       "  </tbody>\n",
       "</table>\n",
       "</div>"
      ],
      "text/plain": [
       "      age  gender  marital_status\n",
       "name                             \n",
       "Eve    52  Female               0"
      ]
     },
     "execution_count": 39,
     "metadata": {},
     "output_type": "execute_result"
    }
   ],
   "source": [
    "# TODO (DataFrame)\n",
    "\n",
    "df.loc[['Eve']]"
   ]
  },
  {
   "cell_type": "code",
   "execution_count": 52,
   "metadata": {},
   "outputs": [
    {
     "data": {
      "text/plain": [
       "age                   52\n",
       "gender            Female\n",
       "marital_status         0\n",
       "Name: Eve, dtype: object"
      ]
     },
     "execution_count": 52,
     "metadata": {},
     "output_type": "execute_result"
    }
   ],
   "source": [
    "# TODO (Series)\n",
    "\n",
    "df.loc['Eve']"
   ]
  },
  {
   "cell_type": "markdown",
   "metadata": {},
   "source": [
    "> ### <font color=\"blue\">(INDPENDENT)</font> Question 5.  How old is Frank?"
   ]
  },
  {
   "cell_type": "code",
   "execution_count": 58,
   "metadata": {},
   "outputs": [
    {
     "data": {
      "text/plain": [
       "43"
      ]
     },
     "execution_count": 58,
     "metadata": {},
     "output_type": "execute_result"
    }
   ],
   "source": [
    "# TODO\n",
    "\n",
    "df.loc['Frank', 'age' ]"
   ]
  },
  {
   "cell_type": "markdown",
   "metadata": {},
   "source": [
    "> ### <font color=\"blue\">(INDPENDENT)</font> Question 6.  What is the men’s mean age, the women’s median age?"
   ]
  },
  {
   "cell_type": "code",
   "execution_count": 37,
   "metadata": {},
   "outputs": [
    {
     "data": {
      "text/html": [
       "<div>\n",
       "<style>\n",
       "    .dataframe thead tr:only-child th {\n",
       "        text-align: right;\n",
       "    }\n",
       "\n",
       "    .dataframe thead th {\n",
       "        text-align: left;\n",
       "    }\n",
       "\n",
       "    .dataframe tbody tr th {\n",
       "        vertical-align: top;\n",
       "    }\n",
       "</style>\n",
       "<table border=\"1\" class=\"dataframe\">\n",
       "  <thead>\n",
       "    <tr style=\"text-align: right;\">\n",
       "      <th></th>\n",
       "      <th>age</th>\n",
       "    </tr>\n",
       "    <tr>\n",
       "      <th>gender</th>\n",
       "      <th></th>\n",
       "    </tr>\n",
       "  </thead>\n",
       "  <tbody>\n",
       "    <tr>\n",
       "      <th>Female</th>\n",
       "      <td>40.000000</td>\n",
       "    </tr>\n",
       "    <tr>\n",
       "      <th>Male</th>\n",
       "      <td>39.333333</td>\n",
       "    </tr>\n",
       "  </tbody>\n",
       "</table>\n",
       "</div>"
      ],
      "text/plain": [
       "              age\n",
       "gender           \n",
       "Female  40.000000\n",
       "Male    39.333333"
      ]
     },
     "execution_count": 37,
     "metadata": {},
     "output_type": "execute_result"
    }
   ],
   "source": [
    "# TODO \n",
    "\n",
    "df.loc[df['gender'] == 'Male', 'age'].mean() # can use .loc to find subset\n",
    "\n",
    "df[['age','gender']].groupby('gender').mean()"
   ]
  },
  {
   "cell_type": "markdown",
   "metadata": {},
   "source": [
    "## Part B"
   ]
  },
  {
   "cell_type": "markdown",
   "metadata": {},
   "source": [
    "- `.mean()`\n",
    "  - (http://pandas.pydata.org/pandas-docs/stable/generated/pandas.DataFrame.mean.html)\n",
    "  - (http://pandas.pydata.org/pandas-docs/stable/generated/pandas.Series.mean.html)\n",
    "- `.var()`, `.std()`\n",
    "  - (http://pandas.pydata.org/pandas-docs/stable/generated/pandas.DataFrame.var.html)\n",
    "  - (http://pandas.pydata.org/pandas-docs/stable/generated/pandas.Series.var.html)\n",
    "  - (http://pandas.pydata.org/pandas-docs/stable/generated/pandas.DataFrame.std.html)\n",
    "  - (http://pandas.pydata.org/pandas-docs/stable/generated/pandas.Series.std.html)"
   ]
  },
  {
   "cell_type": "code",
   "execution_count": 59,
   "metadata": {
    "collapsed": true
   },
   "outputs": [],
   "source": [
    "df = pd.read_csv('../datasets/dataset-04-zillow.csv', index_col = 'ID')"
   ]
  },
  {
   "cell_type": "markdown",
   "metadata": {},
   "source": [
    "### `Series.mean()` - Compute the `Series` mean value"
   ]
  },
  {
   "cell_type": "code",
   "execution_count": 60,
   "metadata": {},
   "outputs": [
    {
     "data": {
      "text/plain": [
       "1.3974229429999998"
      ]
     },
     "execution_count": 60,
     "metadata": {},
     "output_type": "execute_result"
    }
   ],
   "source": [
    "df.SalePrice.mean()"
   ]
  },
  {
   "cell_type": "markdown",
   "metadata": {},
   "source": [
    "> #### Activity: What's `Size`'s mean?"
   ]
  },
  {
   "cell_type": "code",
   "execution_count": 61,
   "metadata": {},
   "outputs": [
    {
     "data": {
      "text/plain": [
       "1641.3009307135471"
      ]
     },
     "execution_count": 61,
     "metadata": {},
     "output_type": "execute_result"
    }
   ],
   "source": [
    "# TODO\n",
    "df.Size.mean()"
   ]
  },
  {
   "cell_type": "markdown",
   "metadata": {},
   "source": [
    "> #### Activity: What fraction of the properties sold in the dataset are studios?"
   ]
  },
  {
   "cell_type": "code",
   "execution_count": 73,
   "metadata": {},
   "outputs": [
    {
     "name": "stdout",
     "output_type": "stream",
     "text": [
      "0.029\n"
     ]
    }
   ],
   "source": [
    "# TODO\n",
    "\n",
    "df['IsAStudio'].unique()\n",
    "\n",
    "print(float(len(df.loc[df['IsAStudio'] == 1 ])) / len(df))"
   ]
  },
  {
   "cell_type": "code",
   "execution_count": 74,
   "metadata": {},
   "outputs": [
    {
     "data": {
      "text/plain": [
       "0.0    957\n",
       "1.0     29\n",
       "Name: IsAStudio, dtype: int64"
      ]
     },
     "execution_count": 74,
     "metadata": {},
     "output_type": "execute_result"
    }
   ],
   "source": [
    "df['IsAStudio'].value_counts()\n",
    "#removes null values"
   ]
  },
  {
   "cell_type": "markdown",
   "metadata": {},
   "source": [
    "### `DataFrame.mean()` - Compute the `DataFrame` mean value"
   ]
  },
  {
   "cell_type": "code",
   "execution_count": 75,
   "metadata": {},
   "outputs": [
    {
     "data": {
      "text/plain": [
       "SalePrice         1.397423\n",
       "IsAStudio         0.029412\n",
       "Beds              2.572967\n",
       "Baths             1.977548\n",
       "Size           1641.300931\n",
       "LotSize        3020.640288\n",
       "BuiltInYear    1947.533333\n",
       "dtype: float64"
      ]
     },
     "execution_count": 75,
     "metadata": {},
     "output_type": "execute_result"
    }
   ],
   "source": [
    "# TODO\n",
    "\n",
    "df.mean()"
   ]
  },
  {
   "cell_type": "markdown",
   "metadata": {},
   "source": [
    "### `.var()` - Compute the unbiased variance (normalized by `N-1` by default)"
   ]
  },
  {
   "cell_type": "code",
   "execution_count": 76,
   "metadata": {},
   "outputs": [
    {
     "data": {
      "text/plain": [
       "SalePrice      3.015131e+00\n",
       "IsAStudio      2.857569e-02\n",
       "Beds           1.564729e+00\n",
       "Baths          1.277654e+00\n",
       "Size           1.054762e+06\n",
       "LotSize        8.142064e+06\n",
       "BuiltInYear    1.445639e+03\n",
       "dtype: float64"
      ]
     },
     "execution_count": 76,
     "metadata": {},
     "output_type": "execute_result"
    }
   ],
   "source": [
    "# TODO\n",
    "\n",
    "df.var()"
   ]
  },
  {
   "cell_type": "markdown",
   "metadata": {},
   "source": [
    "> #### Activity: What's the variance for the number of beds in the dataset?"
   ]
  },
  {
   "cell_type": "code",
   "execution_count": 78,
   "metadata": {},
   "outputs": [
    {
     "data": {
      "text/plain": [
       "1.5647293928888621"
      ]
     },
     "execution_count": 78,
     "metadata": {},
     "output_type": "execute_result"
    }
   ],
   "source": [
    "# TODO\n",
    "\n",
    "df.var()['Beds']"
   ]
  },
  {
   "cell_type": "markdown",
   "metadata": {},
   "source": [
    "### `.std()` - Compute the unbiased standard deviation (normalized by `N-1` by default)"
   ]
  },
  {
   "cell_type": "code",
   "execution_count": 77,
   "metadata": {},
   "outputs": [
    {
     "data": {
      "text/plain": [
       "SalePrice         1.736413\n",
       "IsAStudio         0.169043\n",
       "Beds              1.250891\n",
       "Baths             1.130334\n",
       "Size           1027.016175\n",
       "LotSize        2853.430139\n",
       "BuiltInYear      38.021563\n",
       "dtype: float64"
      ]
     },
     "execution_count": 77,
     "metadata": {},
     "output_type": "execute_result"
    }
   ],
   "source": [
    "# TODO\n",
    "\n",
    "df.std()"
   ]
  },
  {
   "cell_type": "markdown",
   "metadata": {},
   "source": [
    "> #### Activity: What's the standard deviation for the number of beds in the dataset?"
   ]
  },
  {
   "cell_type": "code",
   "execution_count": 80,
   "metadata": {},
   "outputs": [
    {
     "data": {
      "text/plain": [
       "1.2508914392899417"
      ]
     },
     "execution_count": 80,
     "metadata": {},
     "output_type": "execute_result"
    }
   ],
   "source": [
    "# TODO - can also use df.std()['Beds']\n",
    "\n",
    "df['Beds'].std() #faster comuptation only computes for single column"
   ]
  },
  {
   "cell_type": "markdown",
   "metadata": {},
   "source": [
    "## Part C"
   ]
  },
  {
   "cell_type": "markdown",
   "metadata": {},
   "source": [
    "- `.median()`\n",
    "  - (http://pandas.pydata.org/pandas-docs/stable/generated/pandas.DataFrame.median.html)\n",
    "  - (http://pandas.pydata.org/pandas-docs/stable/generated/pandas.Series.median.html)\n",
    "- `.count()`, `.sum()`\n",
    "  - (http://pandas.pydata.org/pandas-docs/stable/generated/pandas.DataFrame.count.html)\n",
    "  - (http://pandas.pydata.org/pandas-docs/stable/generated/pandas.Series.count.html)\n",
    "  - (http://pandas.pydata.org/pandas-docs/stable/generated/pandas.DataFrame.sum.html)\n",
    "  - (http://pandas.pydata.org/pandas-docs/stable/generated/pandas.Series.sum.html)\n",
    "- `.count()`\n",
    "  - (http://pandas.pydata.org/pandas-docs/stable/generated/pandas.DataFrame.dropna.html)\n",
    "- `.min()`, `.max()`\n",
    "  - (http://pandas.pydata.org/pandas-docs/stable/generated/pandas.DataFrame.min.html)\n",
    "  - (http://pandas.pydata.org/pandas-docs/stable/generated/pandas.Series.min.html)\n",
    "  - (http://pandas.pydata.org/pandas-docs/stable/generated/pandas.DataFrame.max.html)\n",
    "  - (http://pandas.pydata.org/pandas-docs/stable/generated/pandas.Series.max.html)\n",
    "- `.quantile()`\n",
    "  - (http://pandas.pydata.org/pandas-docs/stable/generated/pandas.DataFrame.quantile.html)\n",
    "  - (http://pandas.pydata.org/pandas-docs/stable/generated/pandas.Series.quantile.html)\n",
    "- `.describe()`\n",
    "  - (http://pandas.pydata.org/pandas-docs/stable/generated/pandas.DataFrame.describe.html)"
   ]
  },
  {
   "cell_type": "markdown",
   "metadata": {},
   "source": [
    "### `.median()` - Compute the median value"
   ]
  },
  {
   "cell_type": "code",
   "execution_count": 81,
   "metadata": {},
   "outputs": [
    {
     "data": {
      "text/plain": [
       "SalePrice         1.1\n",
       "IsAStudio         0.0\n",
       "Beds              2.0\n",
       "Baths             2.0\n",
       "Size           1350.0\n",
       "LotSize        2622.0\n",
       "BuiltInYear    1939.0\n",
       "dtype: float64"
      ]
     },
     "execution_count": 81,
     "metadata": {},
     "output_type": "execute_result"
    }
   ],
   "source": [
    "# TODO\n",
    "\n",
    "df.median()"
   ]
  },
  {
   "cell_type": "markdown",
   "metadata": {},
   "source": [
    "> #### Activity: What's the median sale price for properties in the dataset?"
   ]
  },
  {
   "cell_type": "code",
   "execution_count": 82,
   "metadata": {},
   "outputs": [
    {
     "data": {
      "text/plain": [
       "1.1"
      ]
     },
     "execution_count": 82,
     "metadata": {},
     "output_type": "execute_result"
    }
   ],
   "source": [
    "# TODO\n",
    "\n",
    "df['SalePrice'].median()"
   ]
  },
  {
   "cell_type": "markdown",
   "metadata": {},
   "source": [
    "### `.count()` - Compute the number of rows/observations without `NaN` and `.sum()` - Compute the sum of the values"
   ]
  },
  {
   "cell_type": "code",
   "execution_count": null,
   "metadata": {
    "collapsed": true
   },
   "outputs": [],
   "source": [
    "df.count()"
   ]
  },
  {
   "cell_type": "code",
   "execution_count": null,
   "metadata": {
    "collapsed": true
   },
   "outputs": [],
   "source": [
    "df.IsAStudio.count()"
   ]
  },
  {
   "cell_type": "markdown",
   "metadata": {},
   "source": [
    "Which leaves 14 houses for which we don't know if they are studios or not."
   ]
  },
  {
   "cell_type": "code",
   "execution_count": null,
   "metadata": {
    "collapsed": true
   },
   "outputs": [],
   "source": [
    "df.IsAStudio.dropna().shape[0] + df.IsAStudio.isnull().sum()"
   ]
  },
  {
   "cell_type": "code",
   "execution_count": null,
   "metadata": {
    "collapsed": true
   },
   "outputs": [],
   "source": [
    "df.IsAStudio.sum()"
   ]
  },
  {
   "cell_type": "markdown",
   "metadata": {},
   "source": [
    "29 properties are studios."
   ]
  },
  {
   "cell_type": "markdown",
   "metadata": {},
   "source": [
    "### `.min()` and `.max()` - Compute the minimum and maximum values"
   ]
  },
  {
   "cell_type": "code",
   "execution_count": 83,
   "metadata": {},
   "outputs": [
    {
     "data": {
      "text/plain": [
       "Address        1 Crescent Way APT 1402, San Francisco, CA\n",
       "DateOfSale                                        1/10/16\n",
       "SalePrice                                           1e-06\n",
       "IsAStudio                                               0\n",
       "Beds                                                    1\n",
       "Baths                                                   1\n",
       "Size                                                  264\n",
       "LotSize                                                44\n",
       "BuiltInYear                                          1870\n",
       "dtype: object"
      ]
     },
     "execution_count": 83,
     "metadata": {},
     "output_type": "execute_result"
    }
   ],
   "source": [
    "df.min()"
   ]
  },
  {
   "cell_type": "code",
   "execution_count": 84,
   "metadata": {},
   "outputs": [
    {
     "data": {
      "text/plain": [
       "Address        San Carlos St, Carmel, CA\n",
       "DateOfSale                        2/9/16\n",
       "SalePrice                           32.7\n",
       "IsAStudio                              1\n",
       "Beds                                   9\n",
       "Baths                                 14\n",
       "Size                               11500\n",
       "LotSize                            47916\n",
       "BuiltInYear                         2015\n",
       "dtype: object"
      ]
     },
     "execution_count": 84,
     "metadata": {},
     "output_type": "execute_result"
    }
   ],
   "source": [
    "df.max()"
   ]
  },
  {
   "cell_type": "markdown",
   "metadata": {},
   "source": [
    "> #### <font color=\"blue\">(INDPENDENT)</font> Activity: What are properties that were sold at the lowest price?  At what price?"
   ]
  },
  {
   "cell_type": "code",
   "execution_count": null,
   "metadata": {
    "collapsed": true
   },
   "outputs": [],
   "source": [
    "# TODO"
   ]
  },
  {
   "cell_type": "markdown",
   "metadata": {},
   "source": [
    "> #### <font color=\"blue\">(INDPENDENT)</font> Activity: What are properties that were sold at the highest price?  At what price?"
   ]
  },
  {
   "cell_type": "code",
   "execution_count": null,
   "metadata": {
    "collapsed": true
   },
   "outputs": [],
   "source": [
    "# TODO"
   ]
  },
  {
   "cell_type": "markdown",
   "metadata": {},
   "source": [
    "### `.quantile()` - Compute values at the given quantile"
   ]
  },
  {
   "cell_type": "code",
   "execution_count": 85,
   "metadata": {},
   "outputs": [
    {
     "data": {
      "text/plain": [
       "SalePrice         1.1\n",
       "IsAStudio         0.0\n",
       "Beds              2.0\n",
       "Baths             2.0\n",
       "Size           1350.0\n",
       "LotSize        2622.0\n",
       "BuiltInYear    1939.0\n",
       "Name: 0.5, dtype: float64"
      ]
     },
     "execution_count": 85,
     "metadata": {},
     "output_type": "execute_result"
    }
   ],
   "source": [
    "df.quantile(.5)"
   ]
  },
  {
   "cell_type": "markdown",
   "metadata": {},
   "source": [
    "By definition, the median is the 50% quantile."
   ]
  },
  {
   "cell_type": "code",
   "execution_count": 86,
   "metadata": {},
   "outputs": [
    {
     "data": {
      "text/plain": [
       "SalePrice         1.1\n",
       "IsAStudio         0.0\n",
       "Beds              2.0\n",
       "Baths             2.0\n",
       "Size           1350.0\n",
       "LotSize        2622.0\n",
       "BuiltInYear    1939.0\n",
       "dtype: float64"
      ]
     },
     "execution_count": 86,
     "metadata": {},
     "output_type": "execute_result"
    }
   ],
   "source": [
    "df.median()"
   ]
  },
  {
   "cell_type": "code",
   "execution_count": 87,
   "metadata": {},
   "outputs": [
    {
     "data": {
      "text/plain": [
       "SalePrice         0.8\n",
       "IsAStudio         0.0\n",
       "Beds              2.0\n",
       "Baths             1.0\n",
       "Size           1027.5\n",
       "LotSize        2375.0\n",
       "BuiltInYear    1912.0\n",
       "Name: 0.25, dtype: float64"
      ]
     },
     "execution_count": 87,
     "metadata": {},
     "output_type": "execute_result"
    }
   ],
   "source": [
    "df.quantile(.25)"
   ]
  },
  {
   "cell_type": "code",
   "execution_count": 88,
   "metadata": {},
   "outputs": [
    {
     "data": {
      "text/plain": [
       "SalePrice         1.5325\n",
       "IsAStudio         0.0000\n",
       "Beds              3.0000\n",
       "Baths             2.0000\n",
       "Size           1947.5000\n",
       "LotSize        3049.0000\n",
       "BuiltInYear    1986.0000\n",
       "Name: 0.75, dtype: float64"
      ]
     },
     "execution_count": 88,
     "metadata": {},
     "output_type": "execute_result"
    }
   ],
   "source": [
    "df.quantile(.75)"
   ]
  },
  {
   "cell_type": "markdown",
   "metadata": {},
   "source": [
    "### `.describe()` - Generate various summary statistics"
   ]
  },
  {
   "cell_type": "code",
   "execution_count": 89,
   "metadata": {},
   "outputs": [
    {
     "data": {
      "text/html": [
       "<div>\n",
       "<style>\n",
       "    .dataframe thead tr:only-child th {\n",
       "        text-align: right;\n",
       "    }\n",
       "\n",
       "    .dataframe thead th {\n",
       "        text-align: left;\n",
       "    }\n",
       "\n",
       "    .dataframe tbody tr th {\n",
       "        vertical-align: top;\n",
       "    }\n",
       "</style>\n",
       "<table border=\"1\" class=\"dataframe\">\n",
       "  <thead>\n",
       "    <tr style=\"text-align: right;\">\n",
       "      <th></th>\n",
       "      <th>SalePrice</th>\n",
       "      <th>IsAStudio</th>\n",
       "      <th>Beds</th>\n",
       "      <th>Baths</th>\n",
       "      <th>Size</th>\n",
       "      <th>LotSize</th>\n",
       "      <th>BuiltInYear</th>\n",
       "    </tr>\n",
       "  </thead>\n",
       "  <tbody>\n",
       "    <tr>\n",
       "      <th>count</th>\n",
       "      <td>1000.000000</td>\n",
       "      <td>986.000000</td>\n",
       "      <td>836.000000</td>\n",
       "      <td>942.000000</td>\n",
       "      <td>967.000000</td>\n",
       "      <td>556.000000</td>\n",
       "      <td>975.000000</td>\n",
       "    </tr>\n",
       "    <tr>\n",
       "      <th>mean</th>\n",
       "      <td>1.397423</td>\n",
       "      <td>0.029412</td>\n",
       "      <td>2.572967</td>\n",
       "      <td>1.977548</td>\n",
       "      <td>1641.300931</td>\n",
       "      <td>3020.640288</td>\n",
       "      <td>1947.533333</td>\n",
       "    </tr>\n",
       "    <tr>\n",
       "      <th>std</th>\n",
       "      <td>1.736413</td>\n",
       "      <td>0.169043</td>\n",
       "      <td>1.250891</td>\n",
       "      <td>1.130334</td>\n",
       "      <td>1027.016175</td>\n",
       "      <td>2853.430139</td>\n",
       "      <td>38.021563</td>\n",
       "    </tr>\n",
       "    <tr>\n",
       "      <th>min</th>\n",
       "      <td>0.000001</td>\n",
       "      <td>0.000000</td>\n",
       "      <td>1.000000</td>\n",
       "      <td>1.000000</td>\n",
       "      <td>264.000000</td>\n",
       "      <td>44.000000</td>\n",
       "      <td>1870.000000</td>\n",
       "    </tr>\n",
       "    <tr>\n",
       "      <th>25%</th>\n",
       "      <td>0.800000</td>\n",
       "      <td>0.000000</td>\n",
       "      <td>2.000000</td>\n",
       "      <td>1.000000</td>\n",
       "      <td>1027.500000</td>\n",
       "      <td>2375.000000</td>\n",
       "      <td>1912.000000</td>\n",
       "    </tr>\n",
       "    <tr>\n",
       "      <th>50%</th>\n",
       "      <td>1.100000</td>\n",
       "      <td>0.000000</td>\n",
       "      <td>2.000000</td>\n",
       "      <td>2.000000</td>\n",
       "      <td>1350.000000</td>\n",
       "      <td>2622.000000</td>\n",
       "      <td>1939.000000</td>\n",
       "    </tr>\n",
       "    <tr>\n",
       "      <th>75%</th>\n",
       "      <td>1.532500</td>\n",
       "      <td>0.000000</td>\n",
       "      <td>3.000000</td>\n",
       "      <td>2.000000</td>\n",
       "      <td>1947.500000</td>\n",
       "      <td>3049.000000</td>\n",
       "      <td>1986.000000</td>\n",
       "    </tr>\n",
       "    <tr>\n",
       "      <th>max</th>\n",
       "      <td>32.700000</td>\n",
       "      <td>1.000000</td>\n",
       "      <td>9.000000</td>\n",
       "      <td>14.000000</td>\n",
       "      <td>11500.000000</td>\n",
       "      <td>47916.000000</td>\n",
       "      <td>2015.000000</td>\n",
       "    </tr>\n",
       "  </tbody>\n",
       "</table>\n",
       "</div>"
      ],
      "text/plain": [
       "         SalePrice   IsAStudio        Beds       Baths          Size  \\\n",
       "count  1000.000000  986.000000  836.000000  942.000000    967.000000   \n",
       "mean      1.397423    0.029412    2.572967    1.977548   1641.300931   \n",
       "std       1.736413    0.169043    1.250891    1.130334   1027.016175   \n",
       "min       0.000001    0.000000    1.000000    1.000000    264.000000   \n",
       "25%       0.800000    0.000000    2.000000    1.000000   1027.500000   \n",
       "50%       1.100000    0.000000    2.000000    2.000000   1350.000000   \n",
       "75%       1.532500    0.000000    3.000000    2.000000   1947.500000   \n",
       "max      32.700000    1.000000    9.000000   14.000000  11500.000000   \n",
       "\n",
       "            LotSize  BuiltInYear  \n",
       "count    556.000000   975.000000  \n",
       "mean    3020.640288  1947.533333  \n",
       "std     2853.430139    38.021563  \n",
       "min       44.000000  1870.000000  \n",
       "25%     2375.000000  1912.000000  \n",
       "50%     2622.000000  1939.000000  \n",
       "75%     3049.000000  1986.000000  \n",
       "max    47916.000000  2015.000000  "
      ]
     },
     "execution_count": 89,
     "metadata": {},
     "output_type": "execute_result"
    }
   ],
   "source": [
    "df.describe()"
   ]
  },
  {
   "cell_type": "code",
   "execution_count": 90,
   "metadata": {},
   "outputs": [
    {
     "data": {
      "text/plain": [
       "count    1000.000000\n",
       "mean        1.397423\n",
       "std         1.736413\n",
       "min         0.000001\n",
       "25%         0.800000\n",
       "50%         1.100000\n",
       "75%         1.532500\n",
       "max        32.700000\n",
       "Name: SalePrice, dtype: float64"
      ]
     },
     "execution_count": 90,
     "metadata": {},
     "output_type": "execute_result"
    }
   ],
   "source": [
    "df.SalePrice.describe()"
   ]
  },
  {
   "cell_type": "code",
   "execution_count": null,
   "metadata": {
    "collapsed": true
   },
   "outputs": [],
   "source": [
    "df.Address.describe()"
   ]
  },
  {
   "cell_type": "markdown",
   "metadata": {},
   "source": [
    "## Part D"
   ]
  },
  {
   "cell_type": "markdown",
   "metadata": {},
   "source": [
    "- Boxplots\n",
    "  - (http://pandas.pydata.org/pandas-docs/stable/visualization.html#box-plots)\n",
    "  - (http://pandas.pydata.org/pandas-docs/stable/generated/pandas.DataFrame.plot.html) with `kind = 'box'`\n",
    "  - (http://pandas.pydata.org/pandas-docs/stable/generated/pandas.Series.plot.html) with `kind = 'box'`\n",
    "  - (http://pandas.pydata.org/pandas-docs/stable/generated/pandas.DataFrame.boxplot.html)"
   ]
  },
  {
   "cell_type": "code",
   "execution_count": 91,
   "metadata": {},
   "outputs": [
    {
     "data": {
      "text/plain": [
       "<matplotlib.axes._subplots.AxesSubplot at 0xcc53d30>"
      ]
     },
     "execution_count": 91,
     "metadata": {},
     "output_type": "execute_result"
    },
    {
     "data": {
      "image/png": "[encoded data removed]",
      "text/plain": [
       "<matplotlib.figure.Figure at 0xcc53518>"
      ]
     },
     "metadata": {},
     "output_type": "display_data"
    }
   ],
   "source": [
    "df.SalePrice.plot(kind = 'box', figsize = (8, 8))"
   ]
  },
  {
   "cell_type": "code",
   "execution_count": 92,
   "metadata": {},
   "outputs": [
    {
     "data": {
      "text/plain": [
       "<matplotlib.axes._subplots.AxesSubplot at 0xd26eb00>"
      ]
     },
     "execution_count": 92,
     "metadata": {},
     "output_type": "execute_result"
    },
    {
     "data": {
      "image/png": "[encoded data removed]",
      "text/plain": [
       "<matplotlib.figure.Figure at 0xd26ee10>"
      ]
     },
     "metadata": {},
     "output_type": "display_data"
    }
   ],
   "source": [
    "df[['SalePrice']].boxplot(figsize = (8, 8))"
   ]
  },
  {
   "cell_type": "markdown",
   "metadata": {},
   "source": [
    "> In the same plot, plot the boxplots of `Beds` and `Baths`"
   ]
  },
  {
   "cell_type": "code",
   "execution_count": null,
   "metadata": {
    "collapsed": true
   },
   "outputs": [],
   "source": [
    "# TODO"
   ]
  },
  {
   "cell_type": "markdown",
   "metadata": {},
   "source": [
    "## Part E"
   ]
  },
  {
   "cell_type": "markdown",
   "metadata": {},
   "source": [
    "- Histograms\n",
    "  - (http://pandas.pydata.org/pandas-docs/stable/visualization.html#histograms)\n",
    "  - (http://pandas.pydata.org/pandas-docs/stable/generated/pandas.DataFrame.plot.html) with `kind = 'hist'`\n",
    "  - (http://pandas.pydata.org/pandas-docs/stable/generated/pandas.Series.plot.html) with `kind = 'hist'`\n",
    "  - (http://pandas.pydata.org/pandas-docs/stable/generated/pandas.DataFrame.hist.html)\n",
    "  - ((http://pandas.pydata.org/pandas-docs/stable/generated/pandas.Series.hist.html)"
   ]
  },
  {
   "cell_type": "code",
   "execution_count": 93,
   "metadata": {},
   "outputs": [
    {
     "data": {
      "text/plain": [
       "<matplotlib.axes._subplots.AxesSubplot at 0xcc533c8>"
      ]
     },
     "execution_count": 93,
     "metadata": {},
     "output_type": "execute_result"
    },
    {
     "data": {
      "image/png": "[encoded data removed]",
      "text/plain": [
       "<matplotlib.figure.Figure at 0xcab4c88>"
      ]
     },
     "metadata": {},
     "output_type": "display_data"
    }
   ],
   "source": [
    "df.Beds.plot(kind = 'hist', figsize = (8, 8))"
   ]
  },
  {
   "cell_type": "code",
   "execution_count": 94,
   "metadata": {},
   "outputs": [
    {
     "data": {
      "text/plain": [
       "<matplotlib.axes._subplots.AxesSubplot at 0xd590e10>"
      ]
     },
     "execution_count": 94,
     "metadata": {},
     "output_type": "execute_result"
    },
    {
     "data": {
      "image/png": "[encoded data removed]",
      "text/plain": [
       "<matplotlib.figure.Figure at 0xd62c828>"
      ]
     },
     "metadata": {},
     "output_type": "display_data"
    }
   ],
   "source": [
    "df.Beds.hist(figsize = (8, 8))"
   ]
  },
  {
   "cell_type": "markdown",
   "metadata": {},
   "source": [
    "> #### Activity: In the same plot, plot the histograms of `Beds` and `Baths`"
   ]
  },
  {
   "cell_type": "code",
   "execution_count": null,
   "metadata": {
    "collapsed": true
   },
   "outputs": [],
   "source": [
    "# TODO"
   ]
  },
  {
   "cell_type": "markdown",
   "metadata": {},
   "source": [
    "## Part F"
   ]
  },
  {
   "cell_type": "markdown",
   "metadata": {},
   "source": [
    "- `.mode()`\n",
    "  - (http://pandas.pydata.org/pandas-docs/stable/generated/pandas.DataFrame.mode.html)\n",
    "  - ((http://pandas.pydata.org/pandas-docs/stable/generated/pandas.Series.mode.html)"
   ]
  },
  {
   "cell_type": "markdown",
   "metadata": {},
   "source": [
    "### `.mode()` - Compute the mode value(s)"
   ]
  },
  {
   "cell_type": "code",
   "execution_count": null,
   "metadata": {
    "collapsed": true
   },
   "outputs": [],
   "source": [
    "df.mode()"
   ]
  },
  {
   "cell_type": "code",
   "execution_count": null,
   "metadata": {
    "collapsed": true
   },
   "outputs": [],
   "source": [
    "df.Address.mode()"
   ]
  },
  {
   "cell_type": "code",
   "execution_count": null,
   "metadata": {
    "collapsed": true
   },
   "outputs": [],
   "source": [
    "df.Baths.mode()"
   ]
  },
  {
   "cell_type": "markdown",
   "metadata": {},
   "source": [
    "The `.mode()` method gets the mode(s) of each element along the columns.  Empty if nothing has 2+ occurrences. Adds a row for each mode per label, fills in gaps with `NaN`.  Note that there could be multiple values returned in the columns (when more than one value share the maximum frequency), which is the reason why a dataframe is returned."
   ]
  },
  {
   "cell_type": "markdown",
   "metadata": {},
   "source": [
    "## Part G"
   ]
  },
  {
   "cell_type": "markdown",
   "metadata": {
    "collapsed": true
   },
   "source": [
    "- `.corr()`\n",
    "  - (http://pandas.pydata.org/pandas-docs/stable/generated/pandas.DataFrame.corr.html)\n",
    "  - (http://pandas.pydata.org/pandas-docs/stable/generated/pandas.Series.corr.html)\n",
    "- Heatmaps\n",
    "  - (http://matplotlib.org/api/pyplot_api.html#matplotlib.pyplot.matshow)\n",
    "- Scatter plots\n",
    "  - (http://pandas.pydata.org/pandas-docs/stable/visualization.html#scatter-plot)\n",
    "  - (http://pandas.pydata.org/pandas-docs/stable/generated/pandas.DataFrame.plot.html) with `kind = 'scatter'`\n",
    "  - (http://pandas.pydata.org/pandas-docs/stable/generated/pandas.Series.plot.html) with `kind = 'scatter'`\n",
    "  - (http://pandas.pydata.org/pandas-docs/stable/generated/pandas.DataFrame.plot.scatter.html)\n",
    "- Scatter matrices\n",
    "  - (http://pandas.pydata.org/pandas-docs/stable/visualization.html#scatter-matrix-plot)"
   ]
  },
  {
   "cell_type": "code",
   "execution_count": 95,
   "metadata": {},
   "outputs": [
    {
     "data": {
      "text/html": [
       "<div>\n",
       "<style>\n",
       "    .dataframe thead tr:only-child th {\n",
       "        text-align: right;\n",
       "    }\n",
       "\n",
       "    .dataframe thead th {\n",
       "        text-align: left;\n",
       "    }\n",
       "\n",
       "    .dataframe tbody tr th {\n",
       "        vertical-align: top;\n",
       "    }\n",
       "</style>\n",
       "<table border=\"1\" class=\"dataframe\">\n",
       "  <thead>\n",
       "    <tr style=\"text-align: right;\">\n",
       "      <th></th>\n",
       "      <th>SalePrice</th>\n",
       "      <th>IsAStudio</th>\n",
       "      <th>Beds</th>\n",
       "      <th>Baths</th>\n",
       "      <th>Size</th>\n",
       "      <th>LotSize</th>\n",
       "      <th>BuiltInYear</th>\n",
       "    </tr>\n",
       "  </thead>\n",
       "  <tbody>\n",
       "    <tr>\n",
       "      <th>SalePrice</th>\n",
       "      <td>1.000000</td>\n",
       "      <td>0.008889</td>\n",
       "      <td>0.379453</td>\n",
       "      <td>0.369938</td>\n",
       "      <td>0.485379</td>\n",
       "      <td>0.392418</td>\n",
       "      <td>-0.148598</td>\n",
       "    </tr>\n",
       "    <tr>\n",
       "      <th>IsAStudio</th>\n",
       "      <td>0.008889</td>\n",
       "      <td>1.000000</td>\n",
       "      <td>NaN</td>\n",
       "      <td>-0.078195</td>\n",
       "      <td>0.052166</td>\n",
       "      <td>-0.012622</td>\n",
       "      <td>-0.050258</td>\n",
       "    </tr>\n",
       "    <tr>\n",
       "      <th>Beds</th>\n",
       "      <td>0.379453</td>\n",
       "      <td>NaN</td>\n",
       "      <td>1.000000</td>\n",
       "      <td>0.715194</td>\n",
       "      <td>0.722656</td>\n",
       "      <td>0.070542</td>\n",
       "      <td>-0.344700</td>\n",
       "    </tr>\n",
       "    <tr>\n",
       "      <th>Baths</th>\n",
       "      <td>0.369938</td>\n",
       "      <td>-0.078195</td>\n",
       "      <td>0.715194</td>\n",
       "      <td>1.000000</td>\n",
       "      <td>0.692501</td>\n",
       "      <td>0.108556</td>\n",
       "      <td>-0.078157</td>\n",
       "    </tr>\n",
       "    <tr>\n",
       "      <th>Size</th>\n",
       "      <td>0.485379</td>\n",
       "      <td>0.052166</td>\n",
       "      <td>0.722656</td>\n",
       "      <td>0.692501</td>\n",
       "      <td>1.000000</td>\n",
       "      <td>0.201979</td>\n",
       "      <td>-0.313989</td>\n",
       "    </tr>\n",
       "    <tr>\n",
       "      <th>LotSize</th>\n",
       "      <td>0.392418</td>\n",
       "      <td>-0.012622</td>\n",
       "      <td>0.070542</td>\n",
       "      <td>0.108556</td>\n",
       "      <td>0.201979</td>\n",
       "      <td>1.000000</td>\n",
       "      <td>0.046411</td>\n",
       "    </tr>\n",
       "    <tr>\n",
       "      <th>BuiltInYear</th>\n",
       "      <td>-0.148598</td>\n",
       "      <td>-0.050258</td>\n",
       "      <td>-0.344700</td>\n",
       "      <td>-0.078157</td>\n",
       "      <td>-0.313989</td>\n",
       "      <td>0.046411</td>\n",
       "      <td>1.000000</td>\n",
       "    </tr>\n",
       "  </tbody>\n",
       "</table>\n",
       "</div>"
      ],
      "text/plain": [
       "             SalePrice  IsAStudio      Beds     Baths      Size   LotSize  \\\n",
       "SalePrice     1.000000   0.008889  0.379453  0.369938  0.485379  0.392418   \n",
       "IsAStudio     0.008889   1.000000       NaN -0.078195  0.052166 -0.012622   \n",
       "Beds          0.379453        NaN  1.000000  0.715194  0.722656  0.070542   \n",
       "Baths         0.369938  -0.078195  0.715194  1.000000  0.692501  0.108556   \n",
       "Size          0.485379   0.052166  0.722656  0.692501  1.000000  0.201979   \n",
       "LotSize       0.392418  -0.012622  0.070542  0.108556  0.201979  1.000000   \n",
       "BuiltInYear  -0.148598  -0.050258 -0.344700 -0.078157 -0.313989  0.046411   \n",
       "\n",
       "             BuiltInYear  \n",
       "SalePrice      -0.148598  \n",
       "IsAStudio      -0.050258  \n",
       "Beds           -0.344700  \n",
       "Baths          -0.078157  \n",
       "Size           -0.313989  \n",
       "LotSize         0.046411  \n",
       "BuiltInYear     1.000000  "
      ]
     },
     "execution_count": 95,
     "metadata": {},
     "output_type": "execute_result"
    }
   ],
   "source": [
    "df.corr()\n",
    "\n",
    "#combinations of columns and how correlated they are "
   ]
  },
  {
   "cell_type": "code",
   "execution_count": 96,
   "metadata": {},
   "outputs": [
    {
     "data": {
      "text/plain": [
       "0.71519388432089781"
      ]
     },
     "execution_count": 96,
     "metadata": {},
     "output_type": "execute_result"
    }
   ],
   "source": [
    "df.Beds.corr(df.Baths)"
   ]
  },
  {
   "cell_type": "markdown",
   "metadata": {},
   "source": [
    "### Heatmaps"
   ]
  },
  {
   "cell_type": "code",
   "execution_count": 97,
   "metadata": {},
   "outputs": [
    {
     "data": {
      "text/html": [
       "<div>\n",
       "<style>\n",
       "    .dataframe thead tr:only-child th {\n",
       "        text-align: right;\n",
       "    }\n",
       "\n",
       "    .dataframe thead th {\n",
       "        text-align: left;\n",
       "    }\n",
       "\n",
       "    .dataframe tbody tr th {\n",
       "        vertical-align: top;\n",
       "    }\n",
       "</style>\n",
       "<table border=\"1\" class=\"dataframe\">\n",
       "  <thead>\n",
       "    <tr style=\"text-align: right;\">\n",
       "      <th></th>\n",
       "      <th>SalePrice</th>\n",
       "      <th>IsAStudio</th>\n",
       "      <th>Beds</th>\n",
       "      <th>Baths</th>\n",
       "      <th>Size</th>\n",
       "      <th>LotSize</th>\n",
       "      <th>BuiltInYear</th>\n",
       "    </tr>\n",
       "  </thead>\n",
       "  <tbody>\n",
       "    <tr>\n",
       "      <th>SalePrice</th>\n",
       "      <td>1.000000</td>\n",
       "      <td>0.008889</td>\n",
       "      <td>0.379453</td>\n",
       "      <td>0.369938</td>\n",
       "      <td>0.485379</td>\n",
       "      <td>0.392418</td>\n",
       "      <td>-0.148598</td>\n",
       "    </tr>\n",
       "    <tr>\n",
       "      <th>IsAStudio</th>\n",
       "      <td>0.008889</td>\n",
       "      <td>1.000000</td>\n",
       "      <td>NaN</td>\n",
       "      <td>-0.078195</td>\n",
       "      <td>0.052166</td>\n",
       "      <td>-0.012622</td>\n",
       "      <td>-0.050258</td>\n",
       "    </tr>\n",
       "    <tr>\n",
       "      <th>Beds</th>\n",
       "      <td>0.379453</td>\n",
       "      <td>NaN</td>\n",
       "      <td>1.000000</td>\n",
       "      <td>0.715194</td>\n",
       "      <td>0.722656</td>\n",
       "      <td>0.070542</td>\n",
       "      <td>-0.344700</td>\n",
       "    </tr>\n",
       "    <tr>\n",
       "      <th>Baths</th>\n",
       "      <td>0.369938</td>\n",
       "      <td>-0.078195</td>\n",
       "      <td>0.715194</td>\n",
       "      <td>1.000000</td>\n",
       "      <td>0.692501</td>\n",
       "      <td>0.108556</td>\n",
       "      <td>-0.078157</td>\n",
       "    </tr>\n",
       "    <tr>\n",
       "      <th>Size</th>\n",
       "      <td>0.485379</td>\n",
       "      <td>0.052166</td>\n",
       "      <td>0.722656</td>\n",
       "      <td>0.692501</td>\n",
       "      <td>1.000000</td>\n",
       "      <td>0.201979</td>\n",
       "      <td>-0.313989</td>\n",
       "    </tr>\n",
       "    <tr>\n",
       "      <th>LotSize</th>\n",
       "      <td>0.392418</td>\n",
       "      <td>-0.012622</td>\n",
       "      <td>0.070542</td>\n",
       "      <td>0.108556</td>\n",
       "      <td>0.201979</td>\n",
       "      <td>1.000000</td>\n",
       "      <td>0.046411</td>\n",
       "    </tr>\n",
       "    <tr>\n",
       "      <th>BuiltInYear</th>\n",
       "      <td>-0.148598</td>\n",
       "      <td>-0.050258</td>\n",
       "      <td>-0.344700</td>\n",
       "      <td>-0.078157</td>\n",
       "      <td>-0.313989</td>\n",
       "      <td>0.046411</td>\n",
       "      <td>1.000000</td>\n",
       "    </tr>\n",
       "  </tbody>\n",
       "</table>\n",
       "</div>"
      ],
      "text/plain": [
       "             SalePrice  IsAStudio      Beds     Baths      Size   LotSize  \\\n",
       "SalePrice     1.000000   0.008889  0.379453  0.369938  0.485379  0.392418   \n",
       "IsAStudio     0.008889   1.000000       NaN -0.078195  0.052166 -0.012622   \n",
       "Beds          0.379453        NaN  1.000000  0.715194  0.722656  0.070542   \n",
       "Baths         0.369938  -0.078195  0.715194  1.000000  0.692501  0.108556   \n",
       "Size          0.485379   0.052166  0.722656  0.692501  1.000000  0.201979   \n",
       "LotSize       0.392418  -0.012622  0.070542  0.108556  0.201979  1.000000   \n",
       "BuiltInYear  -0.148598  -0.050258 -0.344700 -0.078157 -0.313989  0.046411   \n",
       "\n",
       "             BuiltInYear  \n",
       "SalePrice      -0.148598  \n",
       "IsAStudio      -0.050258  \n",
       "Beds           -0.344700  \n",
       "Baths          -0.078157  \n",
       "Size           -0.313989  \n",
       "LotSize         0.046411  \n",
       "BuiltInYear     1.000000  "
      ]
     },
     "execution_count": 97,
     "metadata": {},
     "output_type": "execute_result"
    }
   ],
   "source": [
    "corr = df.corr()\n",
    "\n",
    "corr"
   ]
  },
  {
   "cell_type": "code",
   "execution_count": null,
   "metadata": {
    "collapsed": true
   },
   "outputs": [],
   "source": [
    "# TODO"
   ]
  },
  {
   "cell_type": "markdown",
   "metadata": {},
   "source": [
    "Let's pretty this up using the seaborn package."
   ]
  },
  {
   "cell_type": "code",
   "execution_count": 98,
   "metadata": {},
   "outputs": [
    {
     "data": {
      "text/plain": [
       "<matplotlib.axes._subplots.AxesSubplot at 0xd97db38>"
      ]
     },
     "execution_count": 98,
     "metadata": {},
     "output_type": "execute_result"
    },
    {
     "data": {
      "image/png": "[encoded data removed]",
      "text/plain": [
       "<matplotlib.figure.Figure at 0xd8b6550>"
      ]
     },
     "metadata": {},
     "output_type": "display_data"
    }
   ],
   "source": [
    "sns.heatmap(corr)\n",
    "\n",
    "#maps out where correlations are by color "
   ]
  },
  {
   "cell_type": "markdown",
   "metadata": {},
   "source": [
    "### Scatter plots"
   ]
  },
  {
   "cell_type": "code",
   "execution_count": 99,
   "metadata": {},
   "outputs": [
    {
     "data": {
      "text/plain": [
       "<matplotlib.axes._subplots.AxesSubplot at 0xd98c4e0>"
      ]
     },
     "execution_count": 99,
     "metadata": {},
     "output_type": "execute_result"
    },
    {
     "data": {
      "image/png": "[encoded data removed]",
      "text/plain": [
       "<matplotlib.figure.Figure at 0xdb11ef0>"
      ]
     },
     "metadata": {},
     "output_type": "display_data"
    }
   ],
   "source": [
    "df.plot(kind = 'scatter', x = 'Beds', y = 'Baths', s = 100, figsize = (8, 8))"
   ]
  },
  {
   "cell_type": "code",
   "execution_count": 100,
   "metadata": {},
   "outputs": [
    {
     "data": {
      "text/plain": [
       "<matplotlib.axes._subplots.AxesSubplot at 0xd6c3c88>"
      ]
     },
     "execution_count": 100,
     "metadata": {},
     "output_type": "execute_result"
    },
    {
     "data": {
      "image/png": "[encoded data removed]",
      "text/plain": [
       "<matplotlib.figure.Figure at 0xde1c128>"
      ]
     },
     "metadata": {},
     "output_type": "display_data"
    }
   ],
   "source": [
    "df.plot.scatter(x = 'Beds', y = 'Baths', s = 100, figsize = (8, 8))"
   ]
  },
  {
   "cell_type": "markdown",
   "metadata": {},
   "source": [
    "### Pair scatterplots with Seaborn"
   ]
  },
  {
   "cell_type": "code",
   "execution_count": 101,
   "metadata": {},
   "outputs": [
    {
     "data": {
      "text/plain": [
       "<seaborn.axisgrid.PairGrid at 0xdf8e710>"
      ]
     },
     "execution_count": 101,
     "metadata": {},
     "output_type": "execute_result"
    },
    {
     "data": {
      "image/png": "[encoded data removed]",
      "text/plain": [
       "<matplotlib.figure.Figure at 0xdf8e9e8>"
      ]
     },
     "metadata": {},
     "output_type": "display_data"
    }
   ],
   "source": [
    "sns.pairplot(df[['Beds', 'Baths']].dropna())"
   ]
  },
  {
   "cell_type": "code",
   "execution_count": 102,
   "metadata": {},
   "outputs": [
    {
     "data": {
      "text/plain": [
       "<seaborn.axisgrid.PairGrid at 0xf4ab438>"
      ]
     },
     "execution_count": 102,
     "metadata": {},
     "output_type": "execute_result"
    },
    {
     "data": {
      "image/png": "[encoded data removed]",
      "text/plain": [
       "<matplotlib.figure.Figure at 0xf4abf60>"
      ]
     },
     "metadata": {},
     "output_type": "display_data"
    }
   ],
   "source": [
    "sns.pairplot(df[['SalePrice', 'Size']].dropna())"
   ]
  },
  {
   "cell_type": "code",
   "execution_count": null,
   "metadata": {
    "collapsed": true
   },
   "outputs": [],
   "source": [
    "sns.pairplot(df.dropna())\n",
    "\n",
    "#dropna - drops null values // pandas will auto matically drop null values, but seaborn needs dropna"
   ]
  },
  {
   "cell_type": "markdown",
   "metadata": {},
   "source": [
    "### <font color=\"blue\">Check</font> - why are plots along the diagonal not scatters?"
   ]
  },
  {
   "cell_type": "markdown",
   "metadata": {},
   "source": [
    "## Part H"
   ]
  },
  {
   "cell_type": "markdown",
   "metadata": {},
   "source": [
    "- `.value_counts()`\n",
    "  - (http://pandas.pydata.org/pandas-docs/stable/generated/pandas.Series.value_counts.html)\n",
    "- `.crosstab()`\n",
    "  - (http://pandas.pydata.org/pandas-docs/stable/generated/pandas.crosstab.html)"
   ]
  },
  {
   "cell_type": "markdown",
   "metadata": {},
   "source": [
    "> #### Activity: Reproduce the `Beds` histogram above.  For each possible number of beds, how many properties share that bed count?"
   ]
  },
  {
   "cell_type": "code",
   "execution_count": null,
   "metadata": {
    "collapsed": true
   },
   "outputs": [],
   "source": [
    "# TODO"
   ]
  },
  {
   "cell_type": "markdown",
   "metadata": {},
   "source": [
    "> Careful on checking for `NaN` values!"
   ]
  },
  {
   "cell_type": "code",
   "execution_count": null,
   "metadata": {
    "collapsed": true
   },
   "outputs": [],
   "source": [
    "# TODO"
   ]
  },
  {
   "cell_type": "markdown",
   "metadata": {},
   "source": [
    "> #### Activity: Create a frequency table for `Baths` over `Beds`"
   ]
  },
  {
   "cell_type": "code",
   "execution_count": null,
   "metadata": {
    "collapsed": true
   },
   "outputs": [],
   "source": [
    "# TODO"
   ]
  },
  {
   "cell_type": "markdown",
   "metadata": {},
   "source": [
    "> #### Activity: Create a frequency table for `Beds` and `Baths` (together) over the century the houses were built"
   ]
  },
  {
   "cell_type": "code",
   "execution_count": null,
   "metadata": {
    "collapsed": true
   },
   "outputs": [],
   "source": [
    "# TODO"
   ]
  }
 ],
 "metadata": {
  "kernelspec": {
   "display_name": "Python 2",
   "language": "python",
   "name": "python2"
  },
  "language_info": {
   "codemirror_mode": {
    "name": "ipython",
    "version": 2
   },
   "file_extension": ".py",
   "mimetype": "text/x-python",
   "name": "python",
   "nbconvert_exporter": "python",
   "pygments_lexer": "ipython2",
   "version": "2.7.14"
  }
 },
 "nbformat": 4,
 "nbformat_minor": 1
}
