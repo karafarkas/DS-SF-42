{
 "cells": [
  {
   "cell_type": "markdown",
   "metadata": {},
   "source": [
    "<img src=\"http://imgur.com/1ZcRyrc.png\" style=\"float: left; margin: 20px; height: 55px\">\n",
    "\n",
    "# Classification and KNN with NHL data\n",
    "\n",
    "_Authors: Joseph Nelson (DC)_\n",
    "\n",
    "---\n",
    "\n",
    "Below you will practice KNN classification on a dataset of NHL statistics.\n",
    "\n",
    "You will be predicting the `Rank` of a team from predictor variables of your choice."
   ]
  },
  {
   "cell_type": "code",
   "execution_count": 1,
   "metadata": {
    "collapsed": true
   },
   "outputs": [],
   "source": [
    "import matplotlib.pyplot as plt\n",
    "import numpy as np\n",
    "import pandas as pd\n",
    "import seaborn as sns\n",
    "\n",
    "%matplotlib inline\n",
    "%config InlineBackend.figure_format = 'retina'"
   ]
  },
  {
   "cell_type": "code",
   "execution_count": 2,
   "metadata": {
    "collapsed": true
   },
   "outputs": [],
   "source": [
    "# web location:\n",
    "web_csv = 'https://raw.githubusercontent.com/josephofiowa/GA-DSI/master/NHL_Data_GA.csv'\n",
    "local_csv = './datasets/NHL_Data_GA.csv'"
   ]
  },
  {
   "cell_type": "markdown",
   "metadata": {},
   "source": [
    "### 1. Load the NHL data"
   ]
  },
  {
   "cell_type": "code",
   "execution_count": 3,
   "metadata": {
    "collapsed": true
   },
   "outputs": [],
   "source": [
    "# A:\n",
    "nhl = pd.read_csv(local_csv)"
   ]
  },
  {
   "cell_type": "markdown",
   "metadata": {},
   "source": [
    "### 2. Perform any required data cleaning. Do some EDA."
   ]
  },
  {
   "cell_type": "code",
   "execution_count": 4,
   "metadata": {
    "scrolled": true
   },
   "outputs": [
    {
     "data": {
      "text/html": [
       "<div>\n",
       "<style>\n",
       "    .dataframe thead tr:only-child th {\n",
       "        text-align: right;\n",
       "    }\n",
       "\n",
       "    .dataframe thead th {\n",
       "        text-align: left;\n",
       "    }\n",
       "\n",
       "    .dataframe tbody tr th {\n",
       "        vertical-align: top;\n",
       "    }\n",
       "</style>\n",
       "<table border=\"1\" class=\"dataframe\">\n",
       "  <thead>\n",
       "    <tr style=\"text-align: right;\">\n",
       "      <th></th>\n",
       "      <th>Team</th>\n",
       "      <th>PTS</th>\n",
       "      <th>Rank</th>\n",
       "      <th>TOI</th>\n",
       "      <th>GF</th>\n",
       "      <th>GA</th>\n",
       "      <th>GF60</th>\n",
       "      <th>GA60</th>\n",
       "      <th>GF%</th>\n",
       "      <th>SF</th>\n",
       "      <th>...</th>\n",
       "      <th>FF%</th>\n",
       "      <th>CF</th>\n",
       "      <th>CA</th>\n",
       "      <th>CF60</th>\n",
       "      <th>CA60</th>\n",
       "      <th>CF%</th>\n",
       "      <th>Sh%</th>\n",
       "      <th>Sv%</th>\n",
       "      <th>PDO</th>\n",
       "      <th>PIM</th>\n",
       "    </tr>\n",
       "  </thead>\n",
       "  <tbody>\n",
       "    <tr>\n",
       "      <th>0</th>\n",
       "      <td>Washington10</td>\n",
       "      <td>121</td>\n",
       "      <td>1</td>\n",
       "      <td>2001:52:00</td>\n",
       "      <td>115</td>\n",
       "      <td>73</td>\n",
       "      <td>3.45</td>\n",
       "      <td>2.19</td>\n",
       "      <td>61.2</td>\n",
       "      <td>1112</td>\n",
       "      <td>...</td>\n",
       "      <td>51.3</td>\n",
       "      <td>2138</td>\n",
       "      <td>1935</td>\n",
       "      <td>64.1</td>\n",
       "      <td>58.0</td>\n",
       "      <td>52.5</td>\n",
       "      <td>10.34</td>\n",
       "      <td>93.03</td>\n",
       "      <td>1034</td>\n",
       "      <td>1269</td>\n",
       "    </tr>\n",
       "    <tr>\n",
       "      <th>1</th>\n",
       "      <td>Vancouver11</td>\n",
       "      <td>117</td>\n",
       "      <td>1</td>\n",
       "      <td>2056:14:00</td>\n",
       "      <td>94</td>\n",
       "      <td>72</td>\n",
       "      <td>2.74</td>\n",
       "      <td>2.10</td>\n",
       "      <td>56.6</td>\n",
       "      <td>1143</td>\n",
       "      <td>...</td>\n",
       "      <td>53.1</td>\n",
       "      <td>2144</td>\n",
       "      <td>1870</td>\n",
       "      <td>62.6</td>\n",
       "      <td>54.6</td>\n",
       "      <td>53.4</td>\n",
       "      <td>8.22</td>\n",
       "      <td>93.16</td>\n",
       "      <td>1014</td>\n",
       "      <td>985</td>\n",
       "    </tr>\n",
       "    <tr>\n",
       "      <th>2</th>\n",
       "      <td>San Jose10</td>\n",
       "      <td>113</td>\n",
       "      <td>1</td>\n",
       "      <td>1929:54:00</td>\n",
       "      <td>90</td>\n",
       "      <td>68</td>\n",
       "      <td>2.80</td>\n",
       "      <td>2.11</td>\n",
       "      <td>57.0</td>\n",
       "      <td>1065</td>\n",
       "      <td>...</td>\n",
       "      <td>50.9</td>\n",
       "      <td>1985</td>\n",
       "      <td>1876</td>\n",
       "      <td>61.7</td>\n",
       "      <td>58.3</td>\n",
       "      <td>51.4</td>\n",
       "      <td>8.45</td>\n",
       "      <td>93.46</td>\n",
       "      <td>1019</td>\n",
       "      <td>1195</td>\n",
       "    </tr>\n",
       "    <tr>\n",
       "      <th>3</th>\n",
       "      <td>Chicago10</td>\n",
       "      <td>112</td>\n",
       "      <td>1</td>\n",
       "      <td>2020:23:00</td>\n",
       "      <td>104</td>\n",
       "      <td>83</td>\n",
       "      <td>3.09</td>\n",
       "      <td>2.46</td>\n",
       "      <td>55.6</td>\n",
       "      <td>1186</td>\n",
       "      <td>...</td>\n",
       "      <td>58.1</td>\n",
       "      <td>2093</td>\n",
       "      <td>1572</td>\n",
       "      <td>62.2</td>\n",
       "      <td>46.7</td>\n",
       "      <td>57.1</td>\n",
       "      <td>8.77</td>\n",
       "      <td>90.44</td>\n",
       "      <td>992</td>\n",
       "      <td>966</td>\n",
       "    </tr>\n",
       "    <tr>\n",
       "      <th>4</th>\n",
       "      <td>Vancouver12</td>\n",
       "      <td>111</td>\n",
       "      <td>1</td>\n",
       "      <td>2052:02:00</td>\n",
       "      <td>86</td>\n",
       "      <td>74</td>\n",
       "      <td>2.51</td>\n",
       "      <td>2.16</td>\n",
       "      <td>53.8</td>\n",
       "      <td>1078</td>\n",
       "      <td>...</td>\n",
       "      <td>51.0</td>\n",
       "      <td>2085</td>\n",
       "      <td>1880</td>\n",
       "      <td>61.0</td>\n",
       "      <td>55.0</td>\n",
       "      <td>52.6</td>\n",
       "      <td>7.98</td>\n",
       "      <td>93.36</td>\n",
       "      <td>1013</td>\n",
       "      <td>1049</td>\n",
       "    </tr>\n",
       "  </tbody>\n",
       "</table>\n",
       "<p>5 rows × 28 columns</p>\n",
       "</div>"
      ],
      "text/plain": [
       "           Team  PTS  Rank         TOI   GF  GA  GF60  GA60   GF%    SF  ...   \\\n",
       "0  Washington10  121     1  2001:52:00  115  73  3.45  2.19  61.2  1112  ...    \n",
       "1   Vancouver11  117     1  2056:14:00   94  72  2.74  2.10  56.6  1143  ...    \n",
       "2    San Jose10  113     1  1929:54:00   90  68  2.80  2.11  57.0  1065  ...    \n",
       "3     Chicago10  112     1  2020:23:00  104  83  3.09  2.46  55.6  1186  ...    \n",
       "4   Vancouver12  111     1  2052:02:00   86  74  2.51  2.16  53.8  1078  ...    \n",
       "\n",
       "    FF%    CF    CA  CF60  CA60   CF%    Sh%    Sv%   PDO   PIM  \n",
       "0  51.3  2138  1935  64.1  58.0  52.5  10.34  93.03  1034  1269  \n",
       "1  53.1  2144  1870  62.6  54.6  53.4   8.22  93.16  1014   985  \n",
       "2  50.9  1985  1876  61.7  58.3  51.4   8.45  93.46  1019  1195  \n",
       "3  58.1  2093  1572  62.2  46.7  57.1   8.77  90.44   992   966  \n",
       "4  51.0  2085  1880  61.0  55.0  52.6   7.98  93.36  1013  1049  \n",
       "\n",
       "[5 rows x 28 columns]"
      ]
     },
     "execution_count": 4,
     "metadata": {},
     "output_type": "execute_result"
    }
   ],
   "source": [
    "# A: \n",
    "nhl.head()"
   ]
  },
  {
   "cell_type": "code",
   "execution_count": 5,
   "metadata": {},
   "outputs": [
    {
     "data": {
      "text/plain": [
       "Team     object\n",
       "PTS       int64\n",
       "Rank      int64\n",
       "TOI      object\n",
       "GF        int64\n",
       "GA        int64\n",
       "GF60    float64\n",
       "GA60    float64\n",
       "GF%     float64\n",
       "SF        int64\n",
       "SA        int64\n",
       "SF60    float64\n",
       "SA60    float64\n",
       "SF%     float64\n",
       "FF        int64\n",
       "FA        int64\n",
       "FF60    float64\n",
       "FA60    float64\n",
       "FF%     float64\n",
       "CF        int64\n",
       "CA        int64\n",
       "CF60    float64\n",
       "CA60    float64\n",
       "CF%     float64\n",
       "Sh%     float64\n",
       "Sv%     float64\n",
       "PDO       int64\n",
       "PIM       int64\n",
       "dtype: object"
      ]
     },
     "execution_count": 5,
     "metadata": {},
     "output_type": "execute_result"
    }
   ],
   "source": [
    "nhl.dtypes"
   ]
  },
  {
   "cell_type": "code",
   "execution_count": 14,
   "metadata": {},
   "outputs": [
    {
     "data": {
      "text/plain": [
       "(90, 28)"
      ]
     },
     "execution_count": 14,
     "metadata": {},
     "output_type": "execute_result"
    }
   ],
   "source": [
    "nhl.shape"
   ]
  },
  {
   "cell_type": "markdown",
   "metadata": {},
   "source": [
    "### 3. Set up the `Rank` variable as your target. How many classes are there?"
   ]
  },
  {
   "cell_type": "code",
   "execution_count": 6,
   "metadata": {
    "collapsed": true
   },
   "outputs": [],
   "source": [
    "# A: find count of Rank classes\n",
    "\n",
    "nhl.groupby('Rank').size()\n",
    "\n",
    "\n",
    "target = nhl['Rank'].values"
   ]
  },
  {
   "cell_type": "markdown",
   "metadata": {},
   "source": [
    "### 4. What is the baseline accuracy?"
   ]
  },
  {
   "cell_type": "code",
   "execution_count": 7,
   "metadata": {},
   "outputs": [
    {
     "data": {
      "text/plain": [
       "3    0.344444\n",
       "2    0.333333\n",
       "1    0.322222\n",
       "dtype: float64"
      ]
     },
     "execution_count": 7,
     "metadata": {},
     "output_type": "execute_result"
    }
   ],
   "source": [
    "# A:\n",
    "\n",
    "pd.Series(target).value_counts()/len(target)"
   ]
  },
  {
   "cell_type": "markdown",
   "metadata": {},
   "source": [
    "### 5. Choose 4 features to be your predictor variables and set up your design matrix."
   ]
  },
  {
   "cell_type": "code",
   "execution_count": 8,
   "metadata": {
    "collapsed": true
   },
   "outputs": [],
   "source": [
    "# A:\n",
    "\n",
    "nhl.corr()\n",
    "\n",
    "#GF%, CF%, PTS, GA\n",
    "\n",
    "nhl_4f = nhl[['PTS', 'GA','GF%', 'CF%']]"
   ]
  },
  {
   "cell_type": "markdown",
   "metadata": {},
   "source": [
    "### 6. Fit a `KNeighborsClassifier` with 1 neighbor using the target and predictors."
   ]
  },
  {
   "cell_type": "code",
   "execution_count": 9,
   "metadata": {},
   "outputs": [
    {
     "name": "stdout",
     "output_type": "stream",
     "text": [
      "prediction: [3 2 1 2 3]\n",
      "actual: [3 2 1 2 3]\n"
     ]
    }
   ],
   "source": [
    "# A:\n",
    "\n",
    "from sklearn.neighbors import KNeighborsClassifier\n",
    "knn = KNeighborsClassifier()\n",
    "knn.fit(nhl_4f, target)\n",
    "\n",
    "nhl_sample = nhl_4f.sample(5)\n",
    "print \"prediction:\", knn.predict(nhl_sample)\n",
    "print \"actual:\", target[nhl_sample.index]"
   ]
  },
  {
   "cell_type": "markdown",
   "metadata": {},
   "source": [
    "### 7. Evaluate the accuracy of your model.\n",
    "- Is it better than baseline?\n",
    "- Is it legitimate?"
   ]
  },
  {
   "cell_type": "code",
   "execution_count": 10,
   "metadata": {},
   "outputs": [
    {
     "data": {
      "text/plain": [
       "0.94444444444444442"
      ]
     },
     "execution_count": 10,
     "metadata": {},
     "output_type": "execute_result"
    }
   ],
   "source": [
    "# A:\n",
    "\n",
    "knn.score(nhl_4f, target)"
   ]
  },
  {
   "cell_type": "code",
   "execution_count": 17,
   "metadata": {
    "scrolled": true
   },
   "outputs": [
    {
     "name": "stdout",
     "output_type": "stream",
     "text": [
      "(29, 0.8666666666666667)\n",
      "(28, 0.87777777777777777)\n",
      "(27, 0.87777777777777777)\n",
      "(26, 0.91111111111111109)\n",
      "(25, 0.88888888888888884)\n",
      "(24, 0.91111111111111109)\n",
      "(23, 0.91111111111111109)\n",
      "(22, 0.93333333333333335)\n",
      "(21, 0.91111111111111109)\n",
      "(20, 0.93333333333333335)\n",
      "(19, 0.92222222222222228)\n",
      "(18, 0.94444444444444442)\n",
      "(17, 0.93333333333333335)\n",
      "(16, 0.93333333333333335)\n",
      "(15, 0.92222222222222228)\n",
      "(14, 0.93333333333333335)\n",
      "(13, 0.92222222222222228)\n",
      "(12, 0.93333333333333335)\n",
      "(11, 0.91111111111111109)\n",
      "(10, 0.91111111111111109)\n",
      "(9, 0.92222222222222228)\n",
      "(8, 0.93333333333333335)\n",
      "(7, 0.93333333333333335)\n",
      "(6, 0.94444444444444442)\n",
      "(5, 0.94444444444444442)\n",
      "(4, 0.94444444444444442)\n",
      "(3, 0.9555555555555556)\n",
      "(2, 0.93333333333333335)\n",
      "(1, 1.0)\n"
     ]
    }
   ],
   "source": [
    "for k in range(1,30)[::-1]:\n",
    "    knn = KNeighborsClassifier(n_neighbors=k)\n",
    "    knn.fit(nhl_4f, target)\n",
    "    print (k, knn.score(nhl_4f,target))"
   ]
  },
  {
   "cell_type": "markdown",
   "metadata": {},
   "source": [
    "### 8. Create a 50-50 train-test-split of your target and predictors. Refit the KNN and assess the accuracy."
   ]
  },
  {
   "cell_type": "code",
   "execution_count": 25,
   "metadata": {},
   "outputs": [
    {
     "name": "stdout",
     "output_type": "stream",
     "text": [
      "(29, 0.44444444444444442)\n",
      "(28, 0.44444444444444442)\n",
      "(27, 0.42222222222222222)\n",
      "(26, 0.57777777777777772)\n",
      "(25, 0.59999999999999998)\n",
      "(24, 0.62222222222222223)\n",
      "(23, 0.64444444444444449)\n",
      "(22, 0.66666666666666663)\n",
      "(21, 0.66666666666666663)\n",
      "(20, 0.73333333333333328)\n",
      "(19, 0.71111111111111114)\n",
      "(18, 0.71111111111111114)\n",
      "(17, 0.71111111111111114)\n",
      "(16, 0.71111111111111114)\n",
      "(15, 0.75555555555555554)\n",
      "(14, 0.77777777777777779)\n",
      "(13, 0.84444444444444444)\n",
      "(12, 0.82222222222222219)\n",
      "(11, 0.82222222222222219)\n",
      "(10, 0.8666666666666667)\n",
      "(9, 0.93333333333333335)\n",
      "(8, 0.91111111111111109)\n",
      "(7, 0.9555555555555556)\n",
      "(6, 0.88888888888888884)\n",
      "(5, 0.9555555555555556)\n",
      "(4, 0.88888888888888884)\n",
      "(3, 0.93333333333333335)\n",
      "(2, 0.91111111111111109)\n",
      "(1, 0.93333333333333335)\n"
     ]
    }
   ],
   "source": [
    "# A:\n",
    "from sklearn.model_selection import train_test_split\n",
    "\n",
    "X_train, X_test, y_train, y_test = train_test_split(nhl_4f, target, test_size = 0.5)\n",
    "\n",
    "for k in range(1,30)[::-1]:\n",
    "    knn = KNeighborsClassifier(n_neighbors=k)\n",
    "    knn.fit(X_train, y_train)\n",
    "    print (k, knn.score(X_test,y_test))\n"
   ]
  },
  {
   "cell_type": "markdown",
   "metadata": {},
   "source": [
    "### 9. Evaluate the test accuracy of a KNN where K == number of rows in the training data."
   ]
  },
  {
   "cell_type": "code",
   "execution_count": 19,
   "metadata": {},
   "outputs": [
    {
     "name": "stdout",
     "output_type": "stream",
     "text": [
      "0.344444444444\n"
     ]
    }
   ],
   "source": [
    "# A:\n",
    "knn = KNeighborsClassifier(n_neighbors=90)\n",
    "knn.fit(nhl_4f, target)\n",
    "print knn.score(nhl_4f, target)\n"
   ]
  },
  {
   "cell_type": "markdown",
   "metadata": {},
   "source": [
    "### 10. Fit the KNN at values of K from 1 to the number of rows in the training data.\n",
    "- Store the test accuracy in a list.\n",
    "- Plot the test accuracy vs. the number of neighbors."
   ]
  },
  {
   "cell_type": "code",
   "execution_count": 20,
   "metadata": {},
   "outputs": [
    {
     "name": "stdout",
     "output_type": "stream",
     "text": [
      "(89, 0.58888888888888891)\n",
      "(88, 0.62222222222222223)\n",
      "(87, 0.58888888888888891)\n",
      "(86, 0.58888888888888891)\n",
      "(85, 0.61111111111111116)\n",
      "(84, 0.58888888888888891)\n",
      "(83, 0.59999999999999998)\n",
      "(82, 0.56666666666666665)\n",
      "(81, 0.55555555555555558)\n",
      "(80, 0.53333333333333333)\n",
      "(79, 0.55555555555555558)\n",
      "(78, 0.55555555555555558)\n",
      "(77, 0.56666666666666665)\n",
      "(76, 0.52222222222222225)\n",
      "(75, 0.52222222222222225)\n",
      "(74, 0.52222222222222225)\n",
      "(73, 0.52222222222222225)\n",
      "(72, 0.5444444444444444)\n",
      "(71, 0.56666666666666665)\n",
      "(70, 0.62222222222222223)\n",
      "(69, 0.65555555555555556)\n",
      "(68, 0.66666666666666663)\n",
      "(67, 0.69999999999999996)\n",
      "(66, 0.69999999999999996)\n",
      "(65, 0.68888888888888888)\n",
      "(64, 0.69999999999999996)\n",
      "(63, 0.67777777777777781)\n",
      "(62, 0.69999999999999996)\n",
      "(61, 0.71111111111111114)\n",
      "(60, 0.77777777777777779)\n",
      "(59, 0.77777777777777779)\n",
      "(58, 0.77777777777777779)\n",
      "(57, 0.81111111111111112)\n",
      "(56, 0.78888888888888886)\n",
      "(55, 0.81111111111111112)\n",
      "(54, 0.80000000000000004)\n",
      "(53, 0.82222222222222219)\n",
      "(52, 0.80000000000000004)\n",
      "(51, 0.84444444444444444)\n",
      "(50, 0.83333333333333337)\n",
      "(49, 0.83333333333333337)\n",
      "(48, 0.84444444444444444)\n",
      "(47, 0.8666666666666667)\n",
      "(46, 0.8666666666666667)\n",
      "(45, 0.8666666666666667)\n",
      "(44, 0.83333333333333337)\n",
      "(43, 0.85555555555555551)\n",
      "(42, 0.84444444444444444)\n",
      "(41, 0.8666666666666667)\n",
      "(40, 0.85555555555555551)\n",
      "(39, 0.8666666666666667)\n",
      "(38, 0.85555555555555551)\n",
      "(37, 0.8666666666666667)\n",
      "(36, 0.84444444444444444)\n",
      "(35, 0.8666666666666667)\n",
      "(34, 0.8666666666666667)\n",
      "(33, 0.8666666666666667)\n",
      "(32, 0.84444444444444444)\n",
      "(31, 0.8666666666666667)\n",
      "(30, 0.8666666666666667)\n",
      "(29, 0.8666666666666667)\n",
      "(28, 0.87777777777777777)\n",
      "(27, 0.87777777777777777)\n",
      "(26, 0.91111111111111109)\n",
      "(25, 0.88888888888888884)\n",
      "(24, 0.91111111111111109)\n",
      "(23, 0.91111111111111109)\n",
      "(22, 0.93333333333333335)\n",
      "(21, 0.91111111111111109)\n",
      "(20, 0.93333333333333335)\n",
      "(19, 0.92222222222222228)\n",
      "(18, 0.94444444444444442)\n",
      "(17, 0.93333333333333335)\n",
      "(16, 0.93333333333333335)\n",
      "(15, 0.92222222222222228)\n",
      "(14, 0.93333333333333335)\n",
      "(13, 0.92222222222222228)\n",
      "(12, 0.93333333333333335)\n",
      "(11, 0.91111111111111109)\n",
      "(10, 0.91111111111111109)\n",
      "(9, 0.92222222222222228)\n",
      "(8, 0.93333333333333335)\n",
      "(7, 0.93333333333333335)\n",
      "(6, 0.94444444444444442)\n",
      "(5, 0.94444444444444442)\n",
      "(4, 0.94444444444444442)\n",
      "(3, 0.9555555555555556)\n",
      "(2, 0.93333333333333335)\n",
      "(1, 1.0)\n"
     ]
    }
   ],
   "source": [
    "# A:\n",
    "for k in range(1,90)[::-1]:\n",
    "    knn = KNeighborsClassifier(n_neighbors=k)\n",
    "    knn.fit(nhl_4f, target)\n",
    "    print (k, knn.score(nhl_4f,target))"
   ]
  },
  {
   "cell_type": "markdown",
   "metadata": {},
   "source": [
    "### 11. Fit KNN across different values of K and plot the mean cross-validated accuracy with 5 folds."
   ]
  },
  {
   "cell_type": "code",
   "execution_count": 43,
   "metadata": {},
   "outputs": [
    {
     "data": {
      "image/png": "[encoded data removed]",
      "text/plain": [
       "<matplotlib.figure.Figure at 0xfc64b70>"
      ]
     },
     "metadata": {
      "image/png": {
       "height": 250,
       "width": 373
      }
     },
     "output_type": "display_data"
    }
   ],
   "source": [
    "# A:\n",
    "for k in range(1,90)[::-1]:\n",
    "    knn = KNeighborsClassifier(n_neighbors=k)\n",
    "    knn.fit(nhl_4f, target)\n",
    "    knn_score = knn.score(nhl_4f,target)\n",
    "    plt.plot(k, knn_score)\n",
    "  "
   ]
  },
  {
   "cell_type": "markdown",
   "metadata": {},
   "source": [
    "### 12. Standardize the predictor matrix and cross-validate across the different K.\n",
    "- Plot the standardized mean cross-validated accuracy against the unstandardized. Which is better?\n",
    "- Why?"
   ]
  },
  {
   "cell_type": "code",
   "execution_count": 14,
   "metadata": {
    "collapsed": true
   },
   "outputs": [],
   "source": [
    "# A:"
   ]
  }
 ],
 "metadata": {
  "kernelspec": {
   "display_name": "Python 2",
   "language": "python",
   "name": "python2"
  },
  "language_info": {
   "codemirror_mode": {
    "name": "ipython",
    "version": 2
   },
   "file_extension": ".py",
   "mimetype": "text/x-python",
   "name": "python",
   "nbconvert_exporter": "python",
   "pygments_lexer": "ipython2",
   "version": "2.7.14"
  }
 },
 "nbformat": 4,
 "nbformat_minor": 2
}
